{
 "cells": [
  {
   "metadata": {},
   "cell_type": "markdown",
   "source": [
    "### Item 21: Use property delegation to extract common property patterns\n",
    "\n",
    "property delegation 는 공통 property behavior 패턴을 정의하는 보편적인 방법이다.\n",
    "- kotlin 에서 property 의 get, set accessors 를 다른 object 의 getValue, setValue operator 로 위임하도록 구현된다.\n",
    "- property 오른쪽에 `by` 키워드 후에 위임할 object(delegates) 를 선언함으로써 사용할 수 있다. \n",
    "\n",
    "가장 많이 활용되는 예시가 ***lazy property*** 이다.\n",
    "- lazy property 는 처음 사용될 때 초기화되는 property 이다.\n",
    "```kotlin\n",
    "val value by lazy { createValue() }\n",
    "```\n",
    "\n",
    "**observable property** 패턴 역시 많이 사용된다.\n",
    "- property 가 바뀔 때마다 어떤 행위를 하는 property 이다.\n",
    "```kotlin\n",
    "var key: String? by Delegates.observable(null) { _, old, new -> \n",
    "    Log.e(\"key changed from $old to $new\")\n",
    "}\n",
    "\n",
    "var items: List<Item> by Delgates.observable(listOf()) { _, _, _ -> \n",
    "    notifyDataSetChanged()\n",
    "}\n",
    "```\n",
    "View and Resource Binding\n",
    "```kotlin\n",
    "// View and resouce binding examplel in Android\n",
    "private val button: Button by bindView(R.id.button)\n",
    "private val textSize by bindDimension(R.dimen.font_size)\n",
    "private val doctor: Doctor by ageExtra(DOCTOR_ARG)\n",
    "```\n",
    "\n",
    "Dependency Injection\n",
    "```kotlin\n",
    "private val presenter: MainPresenter by inject()\n",
    "private val repository: NetworkRepository by inject()\n",
    "private val vm: MainViewModel by viewMdoel()\n",
    "```\n",
    "\n",
    "Data Binding\n",
    "```kotlin\n",
    "private val port by bindConfiguration(\"port\")\n",
    "private val token: String by preferences.bind(TOKEN_KEY)\n",
    "```"
   ]
  },
  {
   "metadata": {
    "ExecuteTime": {
     "end_time": "2024-07-13T14:29:14.198327Z",
     "start_time": "2024-07-13T14:29:13.612692Z"
    }
   },
   "cell_type": "code",
   "source": [
    "// delgation property 를 사용하지 않으면 같은 behavior 에 대한 코드가 중복된다.\n",
    "var token: String? = null\n",
    "    get() {\n",
    "        println(\"token returne value $field\")\n",
    "        return field\n",
    "    }\n",
    "    set(value) {\n",
    "        println(\"token changed from $field to $value\")\n",
    "        field = value\n",
    "    }\n",
    "\n",
    "var failedLoginCount: Int = 0\n",
    "    get() {\n",
    "        println(\"failedLoginCount returned value $field\")\n",
    "        return field\n",
    "    }\n",
    "    set(value) {\n",
    "        println(\"failedLoginCount changed from $field to $value\")\n",
    "        field = value\n",
    "    }"
   ],
   "outputs": [
    {
     "name": "stdout",
     "output_type": "stream",
     "text": [
      "failedLoginCount returned value 0\n",
      "failedLoginCount returned value 0\n",
      "token returne value null\n",
      "token returne value null\n"
     ]
    }
   ],
   "execution_count": 7
  },
  {
   "metadata": {},
   "cell_type": "markdown",
   "source": ""
  },
  {
   "metadata": {
    "ExecuteTime": {
     "end_time": "2024-07-13T14:29:16.639264Z",
     "start_time": "2024-07-13T14:29:16.269155Z"
    }
   },
   "cell_type": "code",
   "source": [
    "// delgation property 를 사용하면 같은 behavior 에 대한 코드를 재사용할 수 있다.\n",
    "import kotlin.reflect.KProperty\n",
    "\n",
    "var token: String? by LoggingProperty(null)\n",
    "var failedLoginCount: Int by LoggingProperty(0)\n",
    "\n",
    "private class LoggingProperty<T>(var value:T) {\n",
    "    operator fun getValue(thisRef: Any?, prop: KProperty<*>): T {\n",
    "        println(\"${prop.name} returned value $value\")\n",
    "        return value\n",
    "    }\n",
    "    operator fun setValue(thisRef: Any?, prop: KProperty<*>, newValue: T) {\n",
    "        println(\"${prop.name} changed from $value to $newValue\")\n",
    "        value = newValue\n",
    "    }\n",
    "}"
   ],
   "outputs": [
    {
     "name": "stdout",
     "output_type": "stream",
     "text": [
      "failedLoginCount returned value 0\n",
      "failedLoginCount returned value 0\n",
      "token returned value null\n",
      "token returned value null\n",
      "token returned value null\n",
      "failedLoginCount returned value 0\n",
      "token returned value null\n"
     ]
    },
    {
     "name": "stderr",
     "output_type": "stream",
     "text": [
      "The problem is found in one of the loaded libraries: check library converters (fields callbacks)\n",
      "org.jetbrains.kotlinx.jupyter.exceptions.ReplEvalRuntimeException: \n",
      "org.jetbrains.kotlinx.jupyter.exceptions.ReplLibraryException: The problem is found in one of the loaded libraries: check library converters (fields callbacks)\n",
      "\tat org.jetbrains.kotlinx.jupyter.exceptions.CompositeReplExceptionKt.throwLibraryException(CompositeReplException.kt:52)\n",
      "\tat org.jetbrains.kotlinx.jupyter.codegen.FieldsProcessorImpl.process(FieldsProcessorImpl.kt:68)\n",
      "\tat org.jetbrains.kotlinx.jupyter.repl.impl.CellExecutorImpl$execute$1$1.invoke(CellExecutorImpl.kt:98)\n",
      "\tat org.jetbrains.kotlinx.jupyter.repl.impl.CellExecutorImpl$execute$1$1.invoke(CellExecutorImpl.kt:97)\n",
      "\tat org.jetbrains.kotlinx.jupyter.config.LoggingKt.catchAll(Logging.kt:77)\n",
      "\tat org.jetbrains.kotlinx.jupyter.config.LoggingKt.catchAll$default(Logging.kt:71)\n",
      "\tat org.jetbrains.kotlinx.jupyter.repl.impl.CellExecutorImpl.execute(CellExecutorImpl.kt:97)\n",
      "\tat org.jetbrains.kotlinx.jupyter.repl.execution.CellExecutor$DefaultImpls.execute$default(CellExecutor.kt:12)\n",
      "\tat org.jetbrains.kotlinx.jupyter.repl.impl.ReplForJupyterImpl.evaluateUserCode(ReplForJupyterImpl.kt:581)\n",
      "\tat org.jetbrains.kotlinx.jupyter.repl.impl.ReplForJupyterImpl.access$evaluateUserCode(ReplForJupyterImpl.kt:136)\n",
      "\tat org.jetbrains.kotlinx.jupyter.repl.impl.ReplForJupyterImpl$evalEx$1.invoke(ReplForJupyterImpl.kt:439)\n",
      "\tat org.jetbrains.kotlinx.jupyter.repl.impl.ReplForJupyterImpl$evalEx$1.invoke(ReplForJupyterImpl.kt:436)\n",
      "\tat org.jetbrains.kotlinx.jupyter.repl.impl.ReplForJupyterImpl.withEvalContext(ReplForJupyterImpl.kt:417)\n",
      "\tat org.jetbrains.kotlinx.jupyter.repl.impl.ReplForJupyterImpl.evalEx(ReplForJupyterImpl.kt:436)\n",
      "\tat org.jetbrains.kotlinx.jupyter.messaging.IdeCompatibleMessageRequestProcessor$processExecuteRequest$1$response$1$1.invoke(IdeCompatibleMessageRequestProcessor.kt:140)\n",
      "\tat org.jetbrains.kotlinx.jupyter.messaging.IdeCompatibleMessageRequestProcessor$processExecuteRequest$1$response$1$1.invoke(IdeCompatibleMessageRequestProcessor.kt:139)\n",
      "\tat org.jetbrains.kotlinx.jupyter.execution.JupyterExecutorImpl$Task.execute(JupyterExecutorImpl.kt:42)\n",
      "\tat org.jetbrains.kotlinx.jupyter.execution.JupyterExecutorImpl$executorThread$1.invoke(JupyterExecutorImpl.kt:82)\n",
      "\tat org.jetbrains.kotlinx.jupyter.execution.JupyterExecutorImpl$executorThread$1.invoke(JupyterExecutorImpl.kt:80)\n",
      "\tat kotlin.concurrent.ThreadsKt$thread$thread$1.run(Thread.kt:30)\n",
      "Caused by: org.jetbrains.kotlinx.jupyter.exceptions.ReplEvalRuntimeException: \n",
      "\tat org.jetbrains.kotlinx.jupyter.repl.impl.InternalEvaluatorImpl.eval(InternalEvaluatorImpl.kt:134)\n",
      "\tat org.jetbrains.kotlinx.jupyter.repl.impl.CellExecutorImpl$execute$1$result$1.invoke(CellExecutorImpl.kt:79)\n",
      "\tat org.jetbrains.kotlinx.jupyter.repl.impl.CellExecutorImpl$execute$1$result$1.invoke(CellExecutorImpl.kt:77)\n",
      "\tat org.jetbrains.kotlinx.jupyter.repl.impl.ReplForJupyterImpl.withHost(ReplForJupyterImpl.kt:758)\n",
      "\tat org.jetbrains.kotlinx.jupyter.repl.impl.CellExecutorImpl.execute(CellExecutorImpl.kt:77)\n",
      "\tat org.jetbrains.kotlinx.jupyter.repl.execution.CellExecutor$DefaultImpls.execute$default(CellExecutor.kt:12)\n",
      "\tat org.jetbrains.kotlinx.jupyter.repl.impl.CellExecutorImpl$ExecutionContext.execute(CellExecutorImpl.kt:239)\n",
      "\tat org.jetbrains.kotlinx.jupyter.api.NullabilityEraser.finalize(FieldsHandling.kt:137)\n",
      "\tat org.jetbrains.kotlinx.jupyter.codegen.FieldsProcessorImpl.process(FieldsProcessorImpl.kt:62)\n",
      "\t... 18 more\n",
      "Caused by: java.lang.NullPointerException\n",
      "\tat Line_15_jupyter.<init>(Line_15.jupyter.kts:1)\n",
      "\tat java.base/jdk.internal.reflect.NativeConstructorAccessorImpl.newInstance0(Native Method)\n",
      "\tat java.base/jdk.internal.reflect.NativeConstructorAccessorImpl.newInstance(NativeConstructorAccessorImpl.java:77)\n",
      "\tat java.base/jdk.internal.reflect.DelegatingConstructorAccessorImpl.newInstance(DelegatingConstructorAccessorImpl.java:45)\n",
      "\tat java.base/java.lang.reflect.Constructor.newInstanceWithCaller(Constructor.java:499)\n",
      "\tat java.base/java.lang.reflect.Constructor.newInstance(Constructor.java:480)\n",
      "\tat kotlin.script.experimental.jvm.BasicJvmScriptEvaluator.evalWithConfigAndOtherScriptsResults(BasicJvmScriptEvaluator.kt:122)\n",
      "\tat kotlin.script.experimental.jvm.BasicJvmScriptEvaluator.invoke$suspendImpl(BasicJvmScriptEvaluator.kt:48)\n",
      "\tat kotlin.script.experimental.jvm.BasicJvmScriptEvaluator.invoke(BasicJvmScriptEvaluator.kt)\n",
      "\tat kotlin.script.experimental.jvm.BasicJvmReplEvaluator.eval(BasicJvmReplEvaluator.kt:49)\n",
      "\tat org.jetbrains.kotlinx.jupyter.repl.impl.InternalEvaluatorImpl$eval$resultWithDiagnostics$1.invokeSuspend(InternalEvaluatorImpl.kt:127)\n",
      "\tat kotlin.coroutines.jvm.internal.BaseContinuationImpl.resumeWith(ContinuationImpl.kt:33)\n",
      "\tat kotlinx.coroutines.DispatchedTask.run(DispatchedTask.kt:104)\n",
      "\tat kotlinx.coroutines.EventLoopImplBase.processNextEvent(EventLoop.common.kt:277)\n",
      "\tat kotlinx.coroutines.BlockingCoroutine.joinBlocking(Builders.kt:95)\n",
      "\tat kotlinx.coroutines.BuildersKt__BuildersKt.runBlocking(Builders.kt:69)\n",
      "\tat kotlinx.coroutines.BuildersKt.runBlocking(Unknown Source)\n",
      "\tat kotlinx.coroutines.BuildersKt__BuildersKt.runBlocking$default(Builders.kt:48)\n",
      "\tat kotlinx.coroutines.BuildersKt.runBlocking$default(Unknown Source)\n",
      "\tat org.jetbrains.kotlinx.jupyter.repl.impl.InternalEvaluatorImpl.eval(InternalEvaluatorImpl.kt:127)\n",
      "\t... 26 more\n",
      "\n",
      "\n"
     ]
    }
   ],
   "execution_count": 8
  },
  {
   "metadata": {},
   "cell_type": "markdown",
   "source": [
    "getValue, setValue 컴파일 된 코드를 보면 property 에 대한 bounded reference 와 context(`this`, 위 코드에서 `thisRef` 부분) 를 주입 받는다.\n",
    "- bounded reference 를 통해서, property 의 name 이나 annotation 에 대한 정보를 받아볼 수 있다.\n",
    "- context 를 통해서, function 이 어디서 사용되는지 알 수 있다.\n",
    "\n",
    "getValue, setValue 를 context type 을 달리해서 overloading 이 가능하다.\n",
    "```kotlin\n",
    "class SwipeRefreshBinderDelegate(val id: Int) {\n",
    "    private var cache: SwipeRefreshLayout? = null\n",
    "\n",
    "    operator fun getValue(activity: Activity, prop: KProperty<*>) {\n",
    "        // ...\n",
    "    }\n",
    "\n",
    "    operator fun getValue(fragment: Fragment, prop: KProperty<*>) {\n",
    "        // ...\n",
    "    }\n",
    "}\n",
    "```"
   ]
  },
  {
   "metadata": {},
   "cell_type": "markdown",
   "source": ""
  }
 ],
 "metadata": {
  "kernelspec": {
   "display_name": "Kotlin",
   "language": "kotlin",
   "name": "kotlin"
  },
  "language_info": {
   "name": "kotlin",
   "version": "1.9.23",
   "mimetype": "text/x-kotlin",
   "file_extension": ".kt",
   "pygments_lexer": "kotlin",
   "codemirror_mode": "text/x-kotlin",
   "nbconvert_exporter": ""
  }
 },
 "nbformat": 4,
 "nbformat_minor": 0
}
