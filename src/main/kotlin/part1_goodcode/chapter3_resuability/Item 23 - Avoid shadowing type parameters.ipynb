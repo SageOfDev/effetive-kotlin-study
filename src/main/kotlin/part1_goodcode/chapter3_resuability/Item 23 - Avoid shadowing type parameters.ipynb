{
 "cells": [
  {
   "metadata": {},
   "cell_type": "markdown",
   "source": [
    "### Item 23: Avoid shadowing type parameters\n",
    "\n",
    "type parameter 를 shadowing 하는 것은 혼란을 야기한다."
   ]
  },
  {
   "metadata": {
    "ExecuteTime": {
     "end_time": "2024-07-14T12:06:21.750005Z",
     "start_time": "2024-07-14T12:06:21.449606Z"
    }
   },
   "cell_type": "code",
   "source": [
    "interface Tree\n",
    "class Birch: Tree\n",
    "class Spruce: Tree\n",
    "\n",
    "class Forest<T: Tree> {\n",
    "    fun <T: Tree> addTree(tree: T) {\n",
    "    }\n",
    "}\n",
    "\n",
    "val forest = Forest<Birch>()\n",
    "forest.addTree(Birch())\n",
    "forest.addTree(Spruce())"
   ],
   "outputs": [],
   "execution_count": 2
  },
  {
   "metadata": {},
   "cell_type": "markdown",
   "source": [
    "위와 같은 상황에서 addTree 의 type parameter 는 Forest 의 class type parameter 와의 혼란을 야기한다.\n",
    "\n",
    "1) addTree 의 type parameter 를 지우는 것도 하나의 해결책이다."
   ]
  },
  {
   "metadata": {
    "ExecuteTime": {
     "end_time": "2024-07-14T12:08:40.534924Z",
     "start_time": "2024-07-14T12:08:40.333778Z"
    }
   },
   "cell_type": "code",
   "source": [
    "interface Tree\n",
    "class Birch: Tree\n",
    "class Spruce: Tree\n",
    "\n",
    "class Forest<T: Tree> {\n",
    "    fun addTree(tree: T) {\n",
    "    }\n",
    "}\n",
    "\n",
    "val forest = Forest<Birch>()\n",
    "forest.addTree(Birch())\n",
    "forest.addTree(Spruce()) // ERROR, type mismatch"
   ],
   "outputs": [
    {
     "name": "stderr",
     "output_type": "stream",
     "text": [
      "Line_3.jupyter.kts (6:17 - 21) Parameter 'tree' is never used\n",
      "Line_3.jupyter.kts (12:16 - 24) Type mismatch: inferred type is Line_3_jupyter.Spruce but Line_3_jupyter.Birch was expected"
     ]
    }
   ],
   "execution_count": 3
  },
  {
   "metadata": {},
   "cell_type": "markdown",
   "source": "2) class type parameter 와 이름을 달리 하는 방법도 있다."
  },
  {
   "metadata": {},
   "cell_type": "code",
   "outputs": [],
   "execution_count": null,
   "source": [
    "interface Tree\n",
    "class Birch: Tree\n",
    "class Spruce: Tree\n",
    "\n",
    "class Forest<T: Tree> {\n",
    "    fun <ST> addTree(tree: ST) {\n",
    "//    fun <ST: T> addTree(tree: ST) { // 원한다면 ST 를 T 의 subtype 으로 constrain 할 수 있다.\n",
    "    }\n",
    "}\n",
    "\n",
    "val forest = Forest<Birch>()\n",
    "forest.addTree(Birch())\n",
    "forest.addTree(Spruce())"
   ]
  }
 ],
 "metadata": {
  "kernelspec": {
   "display_name": "Kotlin",
   "language": "kotlin",
   "name": "kotlin"
  },
  "language_info": {
   "name": "kotlin",
   "version": "1.9.23",
   "mimetype": "text/x-kotlin",
   "file_extension": ".kt",
   "pygments_lexer": "kotlin",
   "codemirror_mode": "text/x-kotlin",
   "nbconvert_exporter": ""
  }
 },
 "nbformat": 4,
 "nbformat_minor": 0
}
