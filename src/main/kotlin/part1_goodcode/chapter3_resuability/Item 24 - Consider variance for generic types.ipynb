{
 "cells": [
  {
   "metadata": {},
   "cell_type": "markdown",
   "source": [
    "### Item 24: Consider variance for generic types\n",
    "\n",
    "#### variance(변성)\n",
    "상속 관계를 가지는 `T`, `U` 타입에 대해, `Container<T>`,`Container<U>` 타입에 대해서도 업캐스를 사용하고 싶다면, variance 제약이 필요하다.\n",
    "\n",
    "variance modifier 를 사용해서 variance 제약을 만들 수 있다. \n",
    "\n",
    "**variance modifier**\n",
    "- `in T`: 이 타입의 클래스는 멤버 함수가 `T` 타입 값을 parameter 로만 받고, T 타입 값을 반환하지 않는다.\n",
    "- `out T`: 이 타입의 클래스는 멤버 함수가 `T` 타입 값을 반환하기만 하고, T 타입 값을 parameter 로 받지 않는다."
   ]
  },
  {
   "metadata": {
    "ExecuteTime": {
     "end_time": "2024-07-15T00:01:19.988085Z",
     "start_time": "2024-07-15T00:01:19.687600Z"
    }
   },
   "cell_type": "code",
   "source": [
    "class Box<T>(private var contents: T) {\n",
    "    fun put(item: T) { contents = item }\n",
    "    fun get(): T = contents\n",
    "}\n",
    "\n",
    "class InBox<in T>(private var contents: T) {\n",
    "    fun put(item: T) { contents = item }\n",
    "//    fun get(): T = contents // ERROR\n",
    "}\n",
    "\n",
    "class OutBox<out T>(private var contents: T) {\n",
    "//    fun put(item: T) { contents = item } // ERROR\n",
    "    fun get(): T = contents\n",
    "}"
   ],
   "outputs": [],
   "execution_count": 1
  },
  {
   "metadata": {},
   "cell_type": "markdown",
   "source": [
    "![variance](./24_variance.png)\n",
    "\n",
    "**covariance(공변)**\n",
    "- `Box<T>` 는 invariance(무공변) 이다. 즉, `Box<Cat>` 과 `Box<Pet>` 사이에 아무런 관계가 없다. 어느 쪽도 반대쪽에 대입될 수 없다.\n",
    "- `OutBox<out T>` 는 covariance(공변) 이다. 즉, `Box<Cat>` 과 `Box<Pet>` 의 업캐스트 방향이 `Cat` 과 `Pet` 과 동일하다.\n",
    "- `InBox<in T>` 는 contravariance(반공변) 이다. 즉, `Box<Pet>` 과 `Box<Cat>` 의 업캐스트 방향이 `Cat` 과 `Pet` 과 반대이다.\n",
    "\n",
    "#### Function type\n",
    "Kotlin function type 은 parameter type 에 대해선 contravariant 이며, return type 에 대해선 covariant 이다.\n",
    "\n",
    "예시로, function type `(Cat) -> Pet` 은\n",
    "parameter type 에 대해선 contravariant 하다. 즉, `(Pet) -> Pet` 을 대입할 수 있다.\n",
    "- return type 에 대해선 variant 하다. 즉, `(Cat) -> Cat` 을 대입할 수 있다.\n",
    "\n",
    "#### The safety of variance modifiers(variance 한정자의 안정성)\n",
    "\n",
    "Kotlin 에선 `Array` 는 invariant 이다.\n",
    "\n",
    "`Array<Int>` 타입을 `Array<Any>` 타입으로 업캐스팅하고, `String` 타입을 할당하려고 하면 이는 결함이다."
   ]
  },
  {
   "metadata": {
    "ExecuteTime": {
     "end_time": "2024-07-15T23:27:33.978609Z",
     "start_time": "2024-07-15T23:27:33.715143Z"
    }
   },
   "cell_type": "code",
   "source": [
    "class OutBox<out T> {\n",
    "    private var value: T? = null // private 으로 선언하면 'in' 위치에 out T 타입을 할당할 수 있다고 책에선 설명했으나,\n",
    "    \n",
    "    fun set(value: T) { this.value = value } // ERROR 가 발생한다. 버전 확인이 필요하다.\n",
    "    fun get(): T = this.value ?: error(\"value not set\")\n",
    "}"
   ],
   "outputs": [
    {
     "name": "stderr",
     "output_type": "stream",
     "text": [
      "Line_1.jupyter.kts (8:20 - 21) Type parameter T is declared as 'out' but occurs in 'in' position in type T"
     ]
    }
   ],
   "execution_count": 1
  },
  {
   "metadata": {},
   "cell_type": "markdown",
   "source": [
    "#### Variance modifier 위치\n",
    "\n",
    "1. class/interface 의 선언부\n",
    "\n",
    "class/interface  가 사용되는 모든 곳에 영향을 미친다."
   ]
  },
  {
   "metadata": {
    "ExecuteTime": {
     "end_time": "2024-07-15T23:35:12.095773Z",
     "start_time": "2024-07-15T23:35:11.814906Z"
    }
   },
   "cell_type": "code",
   "source": [
    "class Box<out T>(private var contents: T) {}\n",
    "val boxStr: Box<String> = Box(\"Str\")\n",
    "val boxAny: Box<Any> = boxStr"
   ],
   "outputs": [],
   "execution_count": 2
  },
  {
   "metadata": {},
   "cell_type": "markdown",
   "source": [
    "2. class/interface 를 사용하는 곳\n",
    "\n",
    "사용되는 모든 곳이 아닌 일부에서만 variance modifier 를 적용하고 싶을 때 사용한다."
   ]
  },
  {
   "metadata": {
    "ExecuteTime": {
     "end_time": "2024-07-15T23:41:56.333551Z",
     "start_time": "2024-07-15T23:41:56.029961Z"
    }
   },
   "cell_type": "code",
   "source": [
    "class Box<T>(private var contents: T) {}\n",
    "val boxStr: Box<String> = Box(\"Str\")\n",
    "val boxAny: Box<out Any> = boxStr"
   ],
   "outputs": [],
   "execution_count": 3
  },
  {
   "metadata": {},
   "cell_type": "markdown",
   "source": [
    "두 번째 케이스의 대표적인 예시가 `MutableList`\n",
    "\n",
    "`in` modifier 를 선언부에 사용했다면, element 를 return 할 수 없다.\n",
    "\n",
    "하지만 사용처에서 `in` 을 추가함으로써, 여러 타입을 add 할 수 있다.\n",
    "\n",
    "아래 코드는 함수에서 `MutableList<in Puppy>` 을 사용함으로써, `MutableList<Dog>`, `MutableList<Cute>` 타입에 `Puppy` 타입을 add 한다.  "
   ]
  },
  {
   "metadata": {},
   "cell_type": "code",
   "outputs": [],
   "execution_count": null,
   "source": ""
  },
  {
   "metadata": {
    "ExecuteTime": {
     "end_time": "2024-07-15T23:46:57.727377Z",
     "start_time": "2024-07-15T23:46:57.295950Z"
    }
   },
   "cell_type": "code",
   "source": [
    "interface Dog\n",
    "interface Cutie\n",
    "data class Puppy(val name: String): Dog, Cutie\n",
    "data class Hound(val name: String): Dog\n",
    "data class Cat(val name: String): Cutie\n",
    "\n",
    "fun fillWithPuppies(list: MutableList<in Puppy>) {\n",
    "    list.add(Puppy(\"Jim\"))\n",
    "    list.add(Puppy(\"Beam\"))\n",
    "}\n",
    "\n",
    "val dogs = mutableListOf<Dog>(Hound(\"Pluto\"))\n",
    "fillWithPuppies(dogs)\n",
    "println(dogs)\n",
    "\n",
    "val animals = mutableListOf<Cutie>(Cat(\"Felix\"))\n",
    "fillWithPuppies(animals)\n",
    "println(animals)"
   ],
   "outputs": [
    {
     "name": "stdout",
     "output_type": "stream",
     "text": [
      "[Hound(name=Pluto), Puppy(name=Jim), Puppy(name=Beam)]\n",
      "[Cat(name=Felix), Puppy(name=Jim), Puppy(name=Beam)]\n"
     ]
    }
   ],
   "execution_count": 5
  },
  {
   "metadata": {},
   "cell_type": "markdown",
   "source": [
    "#### 참고\n",
    "- List, Set, Map.value 의 type parameter 는 covariant 이다.\n",
    "- Array, MutableList, MutableSet, MutableMap 의 type parameter 는 invariant 이다. "
   ]
  }
 ],
 "metadata": {
  "kernelspec": {
   "display_name": "Kotlin",
   "language": "kotlin",
   "name": "kotlin"
  },
  "language_info": {
   "name": "kotlin",
   "version": "1.9.23",
   "mimetype": "text/x-kotlin",
   "file_extension": ".kt",
   "pygments_lexer": "kotlin",
   "codemirror_mode": "text/x-kotlin",
   "nbconvert_exporter": ""
  }
 },
 "nbformat": 4,
 "nbformat_minor": 0
}
