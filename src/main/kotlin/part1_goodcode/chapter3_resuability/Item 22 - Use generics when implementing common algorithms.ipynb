{
 "cells": [
  {
   "metadata": {},
   "cell_type": "markdown",
   "source": [
    "### Item 22: Use generics when implementing common algorithms\n",
    "\n",
    "generic type 이 특정 type 의 subtype 이라 제약할 수 있다.\n",
    "\n",
    "constraint 가 적용되었다면, generic type 은 부모 type 의 메서드를 사용할 수 있다.\n",
    "\n",
    "```kotlin\n",
    "fun <T : Comparable<T>> Iterable<T>.sorted():  List<T> {\n",
    "    /*...*/\n",
    "}\n",
    "\n",
    "fun <T, C : MutableCollection<in T>> Iterable<T>.toCollection(destination: C): C {/*...*/}\n",
    "\n",
    "class ListAdapter<T: ItemAdapter>(/**/) {/**/}\n",
    "```\n",
    "\n",
    "Any 를 부모 type 으로 선언하는 것은, non nullable type 이라는 제약조건을 거는 것이다.\n",
    "```kotlin\n",
    "inline fun <T, R : Any> Iterable<T>.mapNotNull(transform: (T) -> R?): List<R> {\n",
    "    return mapNotNullTo(ArrayList<R>(), transform)\n",
    "}\n",
    "```\n",
    "\n",
    "추가로 upper bound type 을 설정하고 싶다면 `where` 을 사용하라\n",
    "```kotlin\n",
    "fun <T: Animal> pet(animal: T) where T: GoodTempered\n",
    "\n",
    "fun <T> pet(animal: T) where T: Animal, T: GoodTempered {}\n",
    "```"
   ]
  }
 ],
 "metadata": {
  "kernelspec": {
   "display_name": "Kotlin",
   "language": "kotlin",
   "name": "kotlin"
  },
  "language_info": {
   "name": "kotlin",
   "version": "1.9.23",
   "mimetype": "text/x-kotlin",
   "file_extension": ".kt",
   "pygments_lexer": "kotlin",
   "codemirror_mode": "text/x-kotlin",
   "nbconvert_exporter": ""
  }
 },
 "nbformat": 4,
 "nbformat_minor": 0
}
