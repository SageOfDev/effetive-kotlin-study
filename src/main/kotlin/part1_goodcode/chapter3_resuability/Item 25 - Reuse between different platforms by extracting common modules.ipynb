{
 "cells": [
  {
   "metadata": {},
   "cell_type": "markdown",
   "source": [
    "### Item 25: Reuse between different platforms by extracting common modules\n",
    "\n",
    "Kotlin 으로 작성된 코드는 JVM, JavaScript, native code 로 컴파일 될 수 있으며, 해당 플랫폼에서 작동하는 모든 언어에서 활용할 수 있다.\n",
    "- 즉, Java, Scala, JavaScript, CoffeeScript, TypeScript, C, Objective-C, Swift, Python, C# 등에서 사용 가능하다.\n",
    "\n",
    "#### Mobile development\n",
    "\n",
    "한 번만 Kotlin 으로 코드를 작성해도 Android, iOS 모두에 재사용할 수 있다.\n",
    "\n",
    "Android 는 Gradle 로 빌드되기 때문에 바로 사용할 수 있다.\n",
    "\n",
    "iOS 의 경우, Kotlin/Native 를 사용하면, Objective-C 프레임워크로 컴파일할 수 있다.\n",
    "- Kotlin/Native 는 LLVM 을 사용하여 native code 로 컴파일 할 수 있다.\n",
    "- native code 란, 특정 프로세서에서 실행할 수 있게 만들어진 코드이다. C, C++, Swift, Kotlin/Native 와 같은 언어는 프로세서에 맞는 머신 코드로 컴파일해서 사용하므로 native language 이다. \n",
    "그 후에, XCode 또는 AppCode 에서 Swift 로 활용할 수 있다."
   ]
  }
 ],
 "metadata": {
  "kernelspec": {
   "display_name": "Kotlin",
   "language": "kotlin",
   "name": "kotlin"
  },
  "language_info": {
   "name": "kotlin",
   "version": "1.9.23",
   "mimetype": "text/x-kotlin",
   "file_extension": ".kt",
   "pygments_lexer": "kotlin",
   "codemirror_mode": "text/x-kotlin",
   "nbconvert_exporter": ""
  }
 },
 "nbformat": 4,
 "nbformat_minor": 0
}
