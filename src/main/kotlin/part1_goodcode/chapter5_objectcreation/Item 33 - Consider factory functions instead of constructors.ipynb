{
 "cells": [
  {
   "metadata": {},
   "cell_type": "markdown",
   "source": [
    "### Item 33: Consider factory functions instead of constructors\n",
    "factory function pattern\n",
    "- 객체를 생성을 함수로 정의하는 패턴\n",
    "- ex: `listOf()`\n",
    "- 장점\n",
    "  - 함수는 이름을 가지므로 의미 파악에 도움이 된다.\n",
    "    - `ArrayList(3)` 보단 `ArrayList.withSize(3)` 이 파악하기에 더 쉽다.\n",
    "  - 함수는 return 타입의 서브타입을 반환할 수도 있다.(다형성)\n",
    "  - 매번 새 객체를 생성안해도 된다. 생성했던 것을 캐시해두고 반환하거나 싱글톤 패턴을 구현하기에도 좋다.\n",
    "    \n",
    "#### Companion Object Factory Function"
   ]
  },
  {
   "metadata": {},
   "cell_type": "code",
   "outputs": [],
   "execution_count": null,
   "source": [
    "class MyLinkedList<T>(val head: T, val tail: MyLinkedList<T>?) {\n",
    "    companion object {\n",
    "        fun <T> of(vararg elemnets: T): MyLinkedList<T>? {\n",
    "            /*...*/\n",
    "        }\n",
    "    }\n",
    "}\n",
    "\n",
    "val list = MyLinkedList.of(1, 2)"
   ]
  },
  {
   "metadata": {},
   "cell_type": "code",
   "source": [
    "// interface 에서도 가능하다.\n",
    "interface MyList<T> {\n",
    "    companion object {\n",
    "        fun <T> of(vararg elemnets: T): MyList<T>? {\n",
    "            /*...*/\n",
    "        }\n",
    "    }\n",
    "}\n",
    "class MyLinkedList<T>(val head: T, val tail: MyLinkedList<T>?): MyList<T>{\n",
    "}\n",
    "\n",
    "val list = MyList.of(1, 2)"
   ],
   "outputs": [],
   "execution_count": null
  },
  {
   "metadata": {},
   "cell_type": "markdown",
   "source": [
    "companion object 는 interface/class 를 구현/상속 받을 수 있다.\n",
    "이를 통해 companion object 는 factory 를 구현/상속 받을 수 있다.\n",
    "```kotlin\n",
    "class MyActivity: Activity() {\n",
    "    companion object: ActivityFactory() {\n",
    "        fun getActivity(): Activity {\n",
    "            /* ... */\n",
    "        }\n",
    "    }\n",
    "}\n",
    "```\n",
    "\n",
    "#### Extension factory functions\n",
    "companion object 의 extension 을 사용하여 factory function 을 정의할 수 있다.\n",
    "\n",
    "이는 주로 이런 경우에 사용하게 된다.\n",
    "- companion object factory function 을 사용하고 싶으나 companion object 를 수정하기 힘들 때\n",
    "- 분리된 파일에 새로운 함수로 factory function 을 정의하고 싶을 때"
   ]
  },
  {
   "metadata": {},
   "cell_type": "code",
   "outputs": [],
   "execution_count": null,
   "source": [
    "interface Tool {\n",
    "    companion object { // 하지만 이 companion object 를 수정하기 어렵다고 하자. \n",
    "    }\n",
    "}\n",
    "\n",
    "fun Tool.Companion.createBogTool(): BigTool { TODO() } // 그러면 companion extension 을 사용하면 된다!\n",
    "\n",
    "interface BigTool: Tool"
   ]
  },
  {
   "metadata": {},
   "cell_type": "markdown",
   "source": [
    "#### Top-level functions\n",
    "그냥 `listOf` 처럼 top-level 에서 factory function 을 정의할 수도 있다.\n",
    "```\n",
    "public fun <T> listOf(element: T): kotlin.collections.List<T> { /* compiled code */ }\n",
    "```\n",
    "\n",
    "public top-level function 은 어디서나 사용될 수 있으므로 신중하게 사용해야 함.\n",
    "자동완성을 어지럽힐 수 있음.\n",
    "\n",
    "\n",
    "#### Fake constructors"
   ]
  },
  {
   "metadata": {},
   "cell_type": "code",
   "outputs": [],
   "execution_count": null,
   "source": [
    "class A\n",
    "\n",
    "val a = A()\n",
    "val reference: () -> A = ::A"
   ]
  },
  {
   "metadata": {},
   "cell_type": "markdown",
   "source": [
    "#### Methods on a factory class\n",
    "\n",
    "팩토리 클래스는 프로퍼티(상태) 를 가질 수 있고, 이를 활용하여 다양한 기능을 도입할 수 있다.\n",
    "- 캐싱 활용하기\n",
    "- 이전 생성 객체를 복사해서 객체 생성하기. 이러면 객체 생성 속도가 빨라짐.\n"
   ]
  },
  {
   "metadata": {},
   "cell_type": "code",
   "outputs": [],
   "execution_count": null,
   "source": [
    "data class Student(\n",
    "    val id: Int,\n",
    "    val name: String,\n",
    "    val surname: String\n",
    ")\n",
    "\n",
    "class StudentsFactory {\n",
    "    var nextId = 0\n",
    "    fun next(name: String, surname: String) = Student(nextId++, name, surname)\n",
    "}"
   ]
  }
 ],
 "metadata": {
  "kernelspec": {
   "display_name": "Kotlin",
   "language": "kotlin",
   "name": "kotlin"
  },
  "language_info": {
   "name": "kotlin",
   "version": "1.9.23",
   "mimetype": "text/x-kotlin",
   "file_extension": ".kt",
   "pygments_lexer": "kotlin",
   "codemirror_mode": "text/x-kotlin",
   "nbconvert_exporter": ""
  }
 },
 "nbformat": 4,
 "nbformat_minor": 0
}
