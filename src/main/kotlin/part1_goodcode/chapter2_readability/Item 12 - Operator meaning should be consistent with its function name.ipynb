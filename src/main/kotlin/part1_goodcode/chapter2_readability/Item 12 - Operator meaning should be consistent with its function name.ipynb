{
 "cells": [
  {
   "metadata": {},
   "cell_type": "markdown",
   "source": [
    "### Item 12: Operator meaning should be consistent with its function name\n",
    "\n",
    "operator 의 각 기호엔 매칭되는 특수한 function name 이 있다.\n",
    "\n",
    "따라서 operator overloading 할 때, 그 function name 에 걸맞도록 작성하라.\n",
    "\n",
    "예를 들어, `!` `not` operator 에 `factorial()` 같은 function 으로 overloading 하지 마라.\n",
    "\n",
    "#### Unclear cases\n",
    "operator overloading 아 애매하다면\n",
    "- 이름에 설명이 포함된 infix extension function 을 사용하라\n",
    "- 혹은, top-level function 을 사용하라"
   ]
  },
  {
   "metadata": {
    "ExecuteTime": {
     "end_time": "2024-06-29T05:08:12.485265Z",
     "start_time": "2024-06-29T05:08:12.267982Z"
    }
   },
   "cell_type": "code",
   "source": [
    "infix fun Int.timesRepeated(operation: () -> Unit) = {\n",
    "    repeat(this) { operation() }\n",
    "}\n",
    "\n",
    "val tripledHello = 3 timesRepeated { print(\"Hello\") }\n",
    "tripledHello()\n",
    "\n",
    "repeat(3) { print(\"Hello\")}"
   ],
   "outputs": [
    {
     "name": "stdout",
     "output_type": "stream",
     "text": [
      "HelloHelloHelloHelloHelloHello"
     ]
    }
   ],
   "execution_count": 3
  },
  {
   "metadata": {},
   "cell_type": "code",
   "outputs": [],
   "execution_count": null,
   "source": ""
  }
 ],
 "metadata": {
  "kernelspec": {
   "display_name": "Kotlin",
   "language": "kotlin",
   "name": "kotlin"
  },
  "language_info": {
   "name": "kotlin",
   "version": "1.9.23",
   "mimetype": "text/x-kotlin",
   "file_extension": ".kt",
   "pygments_lexer": "kotlin",
   "codemirror_mode": "text/x-kotlin",
   "nbconvert_exporter": ""
  }
 },
 "nbformat": 4,
 "nbformat_minor": 0
}
