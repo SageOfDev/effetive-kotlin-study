{
 "cells": [
  {
   "metadata": {},
   "cell_type": "markdown",
   "source": [
    "### Item 16: Properties should represent state, not behavior\n",
    "\n",
    "property 는 getter 와 setter 를 가질 수 있다."
   ]
  },
  {
   "metadata": {
    "ExecuteTime": {
     "end_time": "2024-07-07T12:10:29.629256Z",
     "start_time": "2024-07-07T12:10:28.698320Z"
    }
   },
   "cell_type": "code",
   "source": [
    "import java.util.*\n",
    "\n",
    "var name: String? = null\n",
    "    get() = field?.uppercase(Locale.getDefault())\n",
    "    set(value) {\n",
    "        if (!value.isNullOrBlank()) field = value\n",
    "    }\n",
    "\n",
    "name = \"james\"\n",
    "println(name)"
   ],
   "outputs": [
    {
     "name": "stdout",
     "output_type": "stream",
     "text": [
      "JAMES\n"
     ]
    }
   ],
   "execution_count": 2
  },
  {
   "metadata": {},
   "cell_type": "markdown",
   "source": [
    "derived property: base property 의 getter 와 setter 로 정의된, 캡슐화된 property\n",
    "\n",
    "아래 코드에서 `millis` 가 derived property 이다."
   ]
  },
  {
   "metadata": {
    "ExecuteTime": {
     "end_time": "2024-07-07T12:21:55.938463Z",
     "start_time": "2024-07-07T12:21:55.871218Z"
    }
   },
   "cell_type": "code",
   "source": [
    "var date: Date\n",
    "    get() = Date(millis)\n",
    "    set(value) {\n",
    "        millis = value.time\n",
    "    }"
   ],
   "outputs": [
    {
     "name": "stderr",
     "output_type": "stream",
     "text": [
      "Line_8.jupyter.kts (2:18 - 24) Unresolved reference: millis\n",
      "Line_8.jupyter.kts (4:9 - 15) Unresolved reference: millis"
     ]
    }
   ],
   "execution_count": 4
  },
  {
   "metadata": {},
   "cell_type": "markdown",
   "source": "property 는 override 할 수 있다."
  },
  {
   "metadata": {
    "ExecuteTime": {
     "end_time": "2024-07-07T12:30:18.529720Z",
     "start_time": "2024-07-07T12:30:17.992452Z"
    }
   },
   "cell_type": "code",
   "source": [
    "open class Supercomputer {\n",
    "    open val theAnswer: Long = 42\n",
    "}\n",
    "\n",
    "class AppleComputer : Supercomputer() {\n",
    "    override val theAnswer: Long = 1_800_275_2273\n",
    "}"
   ],
   "outputs": [],
   "execution_count": 5
  },
  {
   "metadata": {},
   "cell_type": "code",
   "outputs": [],
   "execution_count": null,
   "source": [
    "kotlin의 property 는 개념적으로 field 보단, accessors 를 나타낸다.\n",
    "\n",
    "따라서 accessor 에 로직을 할당하고 property 를 함수처럼 사용할 수도 있다.\n",
    "        \n",
    "그러나, state 를 설정하고 조회하는 정도로만 logic 을 작성해야 한다."
   ]
  }
 ],
 "metadata": {
  "kernelspec": {
   "display_name": "Kotlin",
   "language": "kotlin",
   "name": "kotlin"
  },
  "language_info": {
   "name": "kotlin",
   "version": "1.9.23",
   "mimetype": "text/x-kotlin",
   "file_extension": ".kt",
   "pygments_lexer": "kotlin",
   "codemirror_mode": "text/x-kotlin",
   "nbconvert_exporter": ""
  }
 },
 "nbformat": 4,
 "nbformat_minor": 0
}
