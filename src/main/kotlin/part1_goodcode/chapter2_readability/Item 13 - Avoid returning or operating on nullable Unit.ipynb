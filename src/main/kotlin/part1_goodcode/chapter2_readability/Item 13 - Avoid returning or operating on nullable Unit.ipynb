{
 "cells": [
  {
   "metadata": {},
   "cell_type": "markdown",
   "source": [
    "### Item 13: Avoid returning or operating on Unit?\n",
    "\n",
    "Unit? 쓰지 말고 Boolean 쓰라.\n",
    "Unit? 는 혼란을"
   ]
  }
 ],
 "metadata": {
  "kernelspec": {
   "display_name": "Kotlin",
   "language": "kotlin",
   "name": "kotlin"
  },
  "language_info": {
   "name": "kotlin",
   "version": "1.9.23",
   "mimetype": "text/x-kotlin",
   "file_extension": ".kt",
   "pygments_lexer": "kotlin",
   "codemirror_mode": "text/x-kotlin",
   "nbconvert_exporter": ""
  }
 },
 "nbformat": 4,
 "nbformat_minor": 0
}
