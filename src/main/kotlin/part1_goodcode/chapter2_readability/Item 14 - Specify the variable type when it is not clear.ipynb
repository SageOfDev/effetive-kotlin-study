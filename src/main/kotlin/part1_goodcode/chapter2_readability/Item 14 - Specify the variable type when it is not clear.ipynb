{
 "cells": [
  {
   "metadata": {},
   "cell_type": "markdown",
   "source": [
    "### Item 14: Specify the variable type when it is not clear\n",
    "\n",
    "타입이 불확실한 경우 타입 추론(inference)을 사용하지 마라.\n",
    "```kotlin\n",
    "// 안좋은 예시\n",
    "val data = getSomeData()\n",
    "\n",
    "// 좋은 예시\n",
    "val data: UserData = getSomeData()\n",
    "```"
   ]
  }
 ],
 "metadata": {
  "kernelspec": {
   "display_name": "Kotlin",
   "language": "kotlin",
   "name": "kotlin"
  },
  "language_info": {
   "name": "kotlin",
   "version": "1.9.23",
   "mimetype": "text/x-kotlin",
   "file_extension": ".kt",
   "pygments_lexer": "kotlin",
   "codemirror_mode": "text/x-kotlin",
   "nbconvert_exporter": ""
  }
 },
 "nbformat": 4,
 "nbformat_minor": 0
}
