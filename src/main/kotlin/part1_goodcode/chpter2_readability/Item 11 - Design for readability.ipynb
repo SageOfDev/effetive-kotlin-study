{
 "cells": [
  {
   "metadata": {},
   "cell_type": "markdown",
   "source": [
    "### Item 11: Design for readability\n",
    "\n",
    "#### Reducing cognitive load\n",
    "가독성이 좋다면, 코드의 동작 과정이 빠르게 파악될 수 있어야 한다.\n",
    "\n",
    "사람은 익숙한 패턴의 코드로 더 빠르게 프로그램 동작 과정을 이해할 수 있다.\n",
    "\n",
    "다른 언어들에서 공통적으로 쓰이는 관용구(idiom)를 보았을 때 더 빠르게 이해 가능할 수 있다.\n",
    "\n",
    "따라서 Kotlin-specific 한 관용구보단 일반적인 프로그래밍 언어의 관용구가 가독성이 좋다.\n",
    "\n",
    "\n",
    " #### Do not get extreme\n",
    " \n",
    "그렇다고 Kotlin-specific 한 관용구를 극단적으로 지양하진 마라.\n",
    "\n",
    "예를 들어, `let` 은 유용하게 사용될 수 있다.\n",
    "1. mutable property 인 변수가 not null 인 경우에만 동작하는 연산이 필요하다면 `let` 을 사용할 수 있다. mutable property 인 변수는 다른 스레드에 의한 가변성이 늘 존재하므로 smart casting 이 불가능하다."
   ]
  },
  {
   "metadata": {
    "ExecuteTime": {
     "end_time": "2024-06-29T02:22:08.597529Z",
     "start_time": "2024-06-29T02:22:08.485093Z"
    }
   },
   "cell_type": "code",
   "source": [
    "class Person(val name: String)\n",
    "var person: Person? = null\n",
    "\n",
    "fun printName() {\n",
    "    person?.let {\n",
    "        print(it.name)\n",
    "    }\n",
    "}"
   ],
   "outputs": [],
   "execution_count": 4
  },
  {
   "metadata": {},
   "cell_type": "markdown",
   "source": [
    "2. argument 처리 후에 연산하고 싶은 경우\n",
    "```kotlin\n",
    "students\n",
    "    .filter { it.pointsInSemester > 15 && it.result >= 50 }\n",
    "    .sortedWith(comparedBy({ it.surname }, { it.name } ))\n",
    "    .joinToString(separator = \"\\n\") {\n",
    "        \"${it.name} ${it.surname}, ${it.result}\"\n",
    "    }\n",
    "    .let(::print)\n",
    "```\n",
    "\n",
    "3. object 를 decorator 으로 감싸고 싶은 경우\n",
    "```kotlin\n",
    "var obj = FileInputStream(\"/file.gz\")\n",
    "    .let(::BufferedInputStream)\n",
    "    .let(::ZipInputStream)\n",
    "    .let(::ObjectInputStream)\n",
    "    .readObject() as SomeObject\n",
    "```\n",
    "\n",
    "#### Conventions\n"
   ]
  }
 ],
 "metadata": {
  "kernelspec": {
   "display_name": "Kotlin",
   "language": "kotlin",
   "name": "kotlin"
  },
  "language_info": {
   "name": "kotlin",
   "version": "1.9.23",
   "mimetype": "text/x-kotlin",
   "file_extension": ".kt",
   "pygments_lexer": "kotlin",
   "codemirror_mode": "text/x-kotlin",
   "nbconvert_exporter": ""
  }
 },
 "nbformat": 4,
 "nbformat_minor": 0
}
