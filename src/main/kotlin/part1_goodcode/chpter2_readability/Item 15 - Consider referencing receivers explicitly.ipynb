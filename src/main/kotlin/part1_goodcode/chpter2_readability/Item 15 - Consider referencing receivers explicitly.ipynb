{
 "cells": [
  {
   "metadata": {},
   "cell_type": "markdown",
   "source": [
    "### Item 15: Consider referencing receivers explicitly\n",
    "\n"
   ]
  },
  {
   "metadata": {
    "ExecuteTime": {
     "end_time": "2024-06-29T12:38:09.896075Z",
     "start_time": "2024-06-29T12:38:09.690333Z"
    }
   },
   "cell_type": "code",
   "source": [
    "// bad usage of apply\n",
    "class Node(val name: String) {\n",
    "    fun makeChild(childName: String) = \n",
    "        create(\"$name.$childName\")\n",
    "            .apply { print(\"Created ${name} \")} // nullable type 이어서 메소드를 직접 사용하지 못함 \n",
    "  \n",
    "    fun create(name: String): Node? = Node(name)\n",
    "}\n",
    "val node = Node(\"parent\")\n",
    "node.makeChild(\"child\")"
   ],
   "outputs": [
    {
     "name": "stdout",
     "output_type": "stream",
     "text": [
      "Created parent.child "
     ]
    },
    {
     "data": {
      "text/plain": [
       "Line_12_jupyter$Node@4397817"
      ]
     },
     "execution_count": 12,
     "metadata": {},
     "output_type": "execute_result"
    }
   ],
   "execution_count": 12
  },
  {
   "metadata": {
    "ExecuteTime": {
     "end_time": "2024-06-29T12:34:30.316871Z",
     "start_time": "2024-06-29T12:34:30.050036Z"
    }
   },
   "cell_type": "code",
   "source": [
    "class Node(val name: String) {\n",
    "    fun makeChild(childName: String) =\n",
    "        create(\"$name.$childName\")\n",
    "            .apply { print(\"Created ${this?.name} \")}\n",
    "\n",
    "    fun create(name: String): Node? = Node(name)\n",
    "}\n",
    "\n",
    "val node = Node(\"parent\")\n",
    "node.makeChild(\"child\")"
   ],
   "outputs": [
    {
     "name": "stdout",
     "output_type": "stream",
     "text": [
      "Created parent.child "
     ]
    },
    {
     "data": {
      "text/plain": [
       "Line_5_jupyter$Node@173071b6"
      ]
     },
     "execution_count": 5,
     "metadata": {},
     "output_type": "execute_result"
    }
   ],
   "execution_count": 5
  },
  {
   "metadata": {
    "ExecuteTime": {
     "end_time": "2024-06-29T12:36:20.241110Z",
     "start_time": "2024-06-29T12:36:19.990894Z"
    }
   },
   "cell_type": "code",
   "source": [
    "class Node(val name: String) {\n",
    "    fun makeChild(childName: String) =\n",
    "        create(\"$name.$childName\")\n",
    "            .also { print(\"Created ${it?.name} \")}\n",
    "\n",
    "    fun create(name: String): Node? = Node(name)\n",
    "}\n",
    "\n",
    "val node = Node(\"parent\")\n",
    "node.makeChild(\"child\")"
   ],
   "outputs": [
    {
     "name": "stdout",
     "output_type": "stream",
     "text": [
      "Created parent.child "
     ]
    },
    {
     "data": {
      "text/plain": [
       "Line_8_jupyter$Node@2d67e483"
      ]
     },
     "execution_count": 8,
     "metadata": {},
     "output_type": "execute_result"
    }
   ],
   "execution_count": 8
  },
  {
   "metadata": {
    "ExecuteTime": {
     "end_time": "2024-06-29T12:41:28.695646Z",
     "start_time": "2024-06-29T12:41:27.955356Z"
    }
   },
   "cell_type": "code",
   "source": [
    "class Node(val name: String) {\n",
    "    fun makeChild(childName: String) =\n",
    "        create(\"$name.$childName\")\n",
    "            .apply { print(\"Created ${this?.name} in ${this@Node.name} \")}\n",
    "\n",
    "    fun create(name: String): Node? = Node(name)\n",
    "}\n",
    "\n",
    "val node = Node(\"parent\")\n",
    "node.makeChild(\"child\")"
   ],
   "outputs": [
    {
     "name": "stdout",
     "output_type": "stream",
     "text": [
      "Created parent.child in parent "
     ]
    },
    {
     "data": {
      "text/plain": [
       "Line_13_jupyter$Node@50671e6f"
      ]
     },
     "execution_count": 13,
     "metadata": {},
     "output_type": "execute_result"
    }
   ],
   "execution_count": 13
  }
 ],
 "metadata": {
  "kernelspec": {
   "display_name": "Kotlin",
   "language": "kotlin",
   "name": "kotlin"
  },
  "language_info": {
   "name": "kotlin",
   "version": "1.9.23",
   "mimetype": "text/x-kotlin",
   "file_extension": ".kt",
   "pygments_lexer": "kotlin",
   "codemirror_mode": "text/x-kotlin",
   "nbconvert_exporter": ""
  }
 },
 "nbformat": 4,
 "nbformat_minor": 0
}
