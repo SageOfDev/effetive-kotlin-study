{
 "cells": [
  {
   "metadata": {},
   "cell_type": "markdown",
   "source": [
    "### Item 26: Each function should be written in terms of a single level of abstraction\n",
    "\n",
    "#### 추상화 레벨 통일(Single Level of Abstraction, SLA) 원칙\n",
    "\n",
    "> Each function should be written in terms of a single level of abstraction.\n",
    "\n",
    "함수 내 모든 문장의 추상화 수준이 동일해야 한다.\n"
   ]
  },
  {
   "metadata": {
    "ExecuteTime": {
     "end_time": "2024-07-21T12:51:49.654071Z",
     "start_time": "2024-07-21T12:51:49.345201Z"
    }
   },
   "cell_type": "code",
   "source": [
    "class CoffeeMachine {\n",
    "    fun makeCoffee() {\n",
    "        // 하나의 함수 안에 모든 low level 로직을 다 쓰는 경우\n",
    "    }\n",
    "}"
   ],
   "outputs": [],
   "execution_count": 1
  },
  {
   "metadata": {
    "ExecuteTime": {
     "end_time": "2024-07-21T13:11:53.912094Z",
     "start_time": "2024-07-21T13:11:52.957035Z"
    }
   },
   "cell_type": "code",
   "source": [
    "class CoffeeMachine {\n",
    "    fun makeCoffee() { // high level 의 함수로 단계를 나누어 표현한 경우, 더 가독성이 좋다.\n",
    "        boilWater()\n",
    "        brewCoffee()\n",
    "        pourCoffee()\n",
    "        pourMilk()\n",
    "    }\n",
    "    \n",
    "    private fun boilWater() {}\n",
    "    private fun brewCoffee() {}\n",
    "    private fun pourCoffee() {}\n",
    "    private fun pourMilk() {}\n",
    "}"
   ],
   "outputs": [],
   "execution_count": 2
  }
 ],
 "metadata": {
  "kernelspec": {
   "display_name": "Kotlin",
   "language": "kotlin",
   "name": "kotlin"
  },
  "language_info": {
   "name": "kotlin",
   "version": "1.9.23",
   "mimetype": "text/x-kotlin",
   "file_extension": ".kt",
   "pygments_lexer": "kotlin",
   "codemirror_mode": "text/x-kotlin",
   "nbconvert_exporter": ""
  }
 },
 "nbformat": 4,
 "nbformat_minor": 0
}
