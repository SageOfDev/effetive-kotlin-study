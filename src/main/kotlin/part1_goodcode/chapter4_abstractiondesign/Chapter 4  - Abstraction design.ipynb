{
 "cells": [
  {
   "metadata": {},
   "cell_type": "markdown",
   "source": [
    "## Chapter 4: Abstraction design\n",
    "\n",
    "프로그래밍에서 주로 다음과 같은 이유로 추상화를 사용한다.\n",
    "- 복잡성을 감추기 위해서\n",
    "- 코드를 체계화하기 위해\n",
    "- 유지보수성을 높이기 위해"
   ]
  }
 ],
 "metadata": {
  "kernelspec": {
   "display_name": "Kotlin",
   "language": "kotlin",
   "name": "kotlin"
  },
  "language_info": {
   "name": "kotlin",
   "version": "1.9.23",
   "mimetype": "text/x-kotlin",
   "file_extension": ".kt",
   "pygments_lexer": "kotlin",
   "codemirror_mode": "text/x-kotlin",
   "nbconvert_exporter": ""
  }
 },
 "nbformat": 4,
 "nbformat_minor": 0
}
