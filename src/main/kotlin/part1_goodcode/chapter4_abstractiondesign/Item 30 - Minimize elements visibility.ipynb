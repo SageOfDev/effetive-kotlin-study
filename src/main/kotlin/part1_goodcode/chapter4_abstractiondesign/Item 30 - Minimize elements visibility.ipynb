{
 "cells": [
  {
   "metadata": {},
   "cell_type": "markdown",
   "source": [
    "### Item 30: Minimize elements visibility\n",
    "\n",
    "elements visibility 를 최소화해야하는 이유\n",
    "\n",
    "외부에 의해 class 의 propety 가 변경되면, class 는 자신의 상태를 책임질 수 없다."
   ]
  },
  {
   "metadata": {
    "ExecuteTime": {
     "end_time": "2024-07-24T00:21:20.218380Z",
     "start_time": "2024-07-24T00:21:19.030196Z"
    }
   },
   "cell_type": "code",
   "source": [
    "class CounterSet<T>(\n",
    "    private val innerSet: MutableSet<T> = mutableSetOf()\n",
    "): MutableSet<T> by innerSet {\n",
    "    \n",
    "    var elementsAdded: Int = 0\n",
    "        private set // useful trick - 이거 안하면 elementsAdded 가 외부에서 수정될 수 있고, 해당 값의 의미를 신뢰할 수 없음\n",
    "    \n",
    "    override fun add(element: T): Boolean {\n",
    "        elementsAdded++\n",
    "        return innerSet.add(element)\n",
    "    }\n",
    "    \n",
    "    override fun addAll(elements: Collection<T>): Boolean {\n",
    "        elementsAdded += elements.size\n",
    "        return innerSet.addAll(elements)\n",
    "    }\n",
    "}"
   ],
   "outputs": [],
   "execution_count": 9
  },
  {
   "metadata": {
    "ExecuteTime": {
     "end_time": "2024-07-24T00:31:09.864886Z",
     "start_time": "2024-07-24T00:31:09.583849Z"
    }
   },
   "cell_type": "code",
   "source": [
    "class MutableLazyHolder<T>(\n",
    "    val initializer: () -> T\n",
    ") {\n",
    "    private var value: Any = Any()\n",
    "    private var initialized = false\n",
    "    \n",
    "    fun get(): T {\n",
    "        if (!initialized) {\n",
    "            value = initializer() as Any\n",
    "            initialized = true\n",
    "        }\n",
    "        return value as T\n",
    "    }\n",
    "    \n",
    "    fun setValue() {\n",
    "        this.value = value\n",
    "        initialized = true\n",
    "    }\n",
    "}"
   ],
   "outputs": [],
   "execution_count": 11
  },
  {
   "metadata": {},
   "cell_type": "markdown",
   "source": [
    "#### Using visibility modifiers(접근 제한자)\n",
    "element 를 노출해야할 이유가 없다면 숨겨라.\n",
    "\n",
    "class member visibility modifier\n",
    "- public(default): visible everywhere\n",
    "- private: visible inside this class only \n",
    "- protected: visible inside this class and in subclasses\n",
    "- internal: visible inside this module\n",
    "\n",
    "Top-level elements visibility modifier\n",
    "- public\n",
    "- private: visible inside the same file only\n",
    "- internal\n",
    "\n",
    "module 은 package 와는 다른 의미이다.\n",
    "\n",
    "Kotlin 에서 module 은 함께 컴파일되는 Koltin 소스 집합을 의미한다. 다음과 같은 것들이 module 이 될 수 있다.\n",
    "- a Gradle source set\n",
    "- a Maven project\n",
    "- an Intellij IDEA module\n",
    "- a set of files complied one invocation of the Ant task\n",
    "\n",
    "예외적으로 data class(DTO) 에선 member 를 외부에 공개한다.\n",
    "필요하지 않는 member 는 삭제하라.\n",
    "\n",
    "상속에서 superclass 의 visibility 를 subclass 에서 override 할 순 없다. subclass is a superclass 관계 때문에 그러하다.\n",
    "\n",
    "이 경우엔 상속보단 composition 을 사용하라(Item 36)."
   ]
  }
 ],
 "metadata": {
  "kernelspec": {
   "display_name": "Kotlin",
   "language": "kotlin",
   "name": "kotlin"
  },
  "language_info": {
   "name": "kotlin",
   "version": "1.9.23",
   "mimetype": "text/x-kotlin",
   "file_extension": ".kt",
   "pygments_lexer": "kotlin",
   "codemirror_mode": "text/x-kotlin",
   "nbconvert_exporter": ""
  }
 },
 "nbformat": 4,
 "nbformat_minor": 0
}
