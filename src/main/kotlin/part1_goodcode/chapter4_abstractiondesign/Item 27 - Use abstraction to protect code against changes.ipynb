{
 "cells": [
  {
   "metadata": {},
   "cell_type": "markdown",
   "source": [
    "### Item 27: Use abstraction to protect code against changes\n",
    "\n",
    "#### Constant"
   ]
  },
  {
   "metadata": {
    "ExecuteTime": {
     "end_time": "2024-07-21T13:42:30.236283Z",
     "start_time": "2024-07-21T13:42:29.764375Z"
    }
   },
   "cell_type": "code",
   "source": [
    "// 나쁜 예시\n",
    "fun isPasswordValid(text: String): Boolean {\n",
    "    if (text.length < 7) return false // 상수를 그대로 쓰는 경우\n",
    "    return true\n",
    "}"
   ],
   "outputs": [],
   "execution_count": 1
  },
  {
   "metadata": {},
   "cell_type": "code",
   "source": [
    "// 좋은 예시\n",
    "const val MIN_PASSWORD_LENGTH = 7\n",
    "\n",
    "fun isPasswordValid(text: String): Boolean {\n",
    "    if (text.length < MIN_PASSWORD_LENGTH) return false // 상수를 그대로 쓰는 경우\n",
    "    return true\n",
    "}"
   ],
   "outputs": [],
   "execution_count": null
  },
  {
   "metadata": {},
   "cell_type": "markdown",
   "source": [
    "#### Next ID\n",
    "ID 가 타입이 바뀌는 경우를 대비하여 클래스로 타입을 정의하라."
   ]
  },
  {
   "metadata": {},
   "cell_type": "code",
   "outputs": [],
   "execution_count": null,
   "source": [
    "data class Id(private val id: Int) // id 타입이 String 으로 바뀔 경우 여기와 아래 함수 구현부만 바꿔주면 된다. 함수 사용처는 바뀔게 없다.\n",
    "\n",
    "private var nextId: Int = 0\n",
    "fun getNextId(): Id = Id(nextId++)"
   ]
  }
 ],
 "metadata": {
  "kernelspec": {
   "display_name": "Kotlin",
   "language": "kotlin",
   "name": "kotlin"
  },
  "language_info": {
   "name": "kotlin",
   "version": "1.9.23",
   "mimetype": "text/x-kotlin",
   "file_extension": ".kt",
   "pygments_lexer": "kotlin",
   "codemirror_mode": "text/x-kotlin",
   "nbconvert_exporter": ""
  }
 },
 "nbformat": 4,
 "nbformat_minor": 0
}
