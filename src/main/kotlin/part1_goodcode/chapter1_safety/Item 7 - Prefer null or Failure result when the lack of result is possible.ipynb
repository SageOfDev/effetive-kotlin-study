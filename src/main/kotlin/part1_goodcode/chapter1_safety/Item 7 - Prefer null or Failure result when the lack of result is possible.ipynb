{
 "cells": [
  {
   "metadata": {},
   "cell_type": "markdown",
   "source": [
    "### Item 7: Prefer `null` or `Failure` result when the lack of result is possible\n",
    "\n",
    "다음과 같은 이유로 함수가 원하는 결과를 반환하지 못할 수 있다.\n",
    "- 네트워크 연결 문제\n",
    "- 원하는 원소가 List 에 없는 경우\n",
    "- 잘못된 형식의 text 를 object 로 파싱하는 경우\n",
    "\n",
    "해결책 두 가지\n",
    "- return `null` or `Failure`(실패를 의미하는 sealed class)\n",
    "- throw an Exception\n",
    "\n",
    "이 때 Exception 사용이 일반적인 방법이면 안된다.\n",
    "Exception 은 잘못된 특별한 상황에서만 사용해야 한다.\n",
    "Exception 은 handling 을 놓칠 수 있으며 app 을 다운시킨다.\n",
    "\n",
    "반면, `null` 이나 `Failure` 는 예상 가능한 에러에 더 적합하다.\n",
    "명확하고, 효율적이고 간단한 방법으로 대응이 가능하다.\n",
    "`null` 이나 sealed class 는 명확하게 처리해야 하며, app 의 흐름을 방해하지 않는다.\n",
    "\n",
    "따라서\n",
    "- 예측 가능한 에러라면 `null`/`Failrue` 를 사용하라\n",
    "- 예측하기 어려운 에러라면 Exception 을 사용하라\n",
    "\n",
    "`Failure` 은 실패에 추가 정보를 제공해야 하는 경우 사용하라.\n",
    "\n",
    "`null` 이 발생할 수 있음을 알리려면 `get` 보단 `getOrNull` 을 사용하라 "
   ]
  }
 ],
 "metadata": {
  "kernelspec": {
   "display_name": "Kotlin",
   "language": "kotlin",
   "name": "kotlin"
  },
  "language_info": {
   "name": "kotlin",
   "version": "1.9.23",
   "mimetype": "text/x-kotlin",
   "file_extension": ".kt",
   "pygments_lexer": "kotlin",
   "codemirror_mode": "text/x-kotlin",
   "nbconvert_exporter": ""
  }
 },
 "nbformat": 4,
 "nbformat_minor": 0
}
