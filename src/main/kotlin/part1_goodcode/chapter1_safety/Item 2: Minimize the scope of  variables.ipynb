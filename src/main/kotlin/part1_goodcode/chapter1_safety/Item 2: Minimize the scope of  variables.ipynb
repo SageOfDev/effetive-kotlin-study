{
 "cells": [
  {
   "metadata": {},
   "cell_type": "markdown",
   "source": [
    "### Item 2: 변수의 스코프를 최소화하라\n",
    "스코프 최소화하기\n",
    "- property 보다는 local variable\n",
    "- 최대한 좁은 스코프를 사용할 것. 예를 들어, 반복문 내부에서만 사용된다면 반복문 내부 변수로 선언\n",
    "\n",
    "스코프 최소화의 장점\n",
    "- 변경 가능한 지점을 줄여서 추적이 용이\n",
    "\n",
    "요소의 스코프란\n",
    "- 요소를 볼 수 있는 컴퓨터 프로그램의 영역\n",
    "- 코틀인에선 기본적으로 중괄호로 만들어짐\n",
    "- 내부에서 외부 접근만 가능\n",
    "\n",
    "변수의 초기화는 정의와 동시에 이루어지는 것이 좋다\n",
    "```kotlin\n",
    "// 나쁜 예\n",
    "val user: User\n",
    "if (hasValue) {\n",
    "    user = getValue()\n",
    "} else {\n",
    "    user = User()\n",
    "}\n",
    "\n",
    "// 좋은 예\n",
    "val user: User = if (hasValue) {\n",
    "    getValue()\n",
    "} else {\n",
    "    User()\n",
    "}\n",
    "```"
   ]
  },
  {
   "metadata": {},
   "cell_type": "markdown",
   "source": "여러 프로퍼티를 초기화해야하는 경우 구조분해 선언(destructuring declaration)을 활용하라."
  },
  {
   "metadata": {
    "ExecuteTime": {
     "end_time": "2024-06-15T08:12:51.423595Z",
     "start_time": "2024-06-15T08:12:50.767073Z"
    }
   },
   "cell_type": "code",
   "source": [
    "// 나쁜 예\n",
    "fun badUpdateWeather(degree: Int) {\n",
    "    val description: String\n",
    "    val color: Int\n",
    "    if (degree < 5) {\n",
    "        description = \"cold\"\n",
    "        color = Color.YELLOW\n",
    "    } else {\n",
    "        description = \"hot\"\n",
    "        color = Color.RED\n",
    "    }\n",
    "}\n",
    "\n",
    "// 좋은 예\n",
    "fun goodUpdateWeather(degree: Int) {\n",
    "    val (description, color) = when {\n",
    "        degree < 5 -> \"cold\" to Color.YELLOW\n",
    "        else -> \"hot\" to Color.RED\n",
    "    }\n",
    "}\n",
    "\n",
    "object Color {\n",
    "    const val YELLOW: Int = 0xFFFF00\n",
    "    const val RED: Int = 0xFF0000\n",
    "    const val GREEN: Int = 0x00FF00\n",
    "    const val BLUE: Int = 0x0000FF\n",
    "}"
   ],
   "outputs": [],
   "execution_count": 3
  },
  {
   "metadata": {},
   "cell_type": "markdown",
   "source": "#### 캡처링"
  },
  {
   "metadata": {
    "ExecuteTime": {
     "end_time": "2024-06-15T14:19:35.595339Z",
     "start_time": "2024-06-15T14:19:35.122403Z"
    }
   },
   "cell_type": "code",
   "source": [
    "var numbers = (2..100).toList()\n",
    "val primes = mutableListOf<Int>()\n",
    "while (numbers.isNotEmpty()) {\n",
    "    val prime = numbers.first()\n",
    "    primes.add(prime)\n",
    "    numbers = numbers.filter { it % prime != 0 }\n",
    "}\n",
    "print(primes)"
   ],
   "outputs": [
    {
     "name": "stdout",
     "output_type": "stream",
     "text": [
      "[2, 3, 5, 7, 11, 13, 17, 19, 23, 29, 31, 37, 41, 43, 47, 53, 59, 61, 67, 71, 73, 79, 83, 89, 97]"
     ]
    }
   ],
   "execution_count": 5
  },
  {
   "metadata": {
    "ExecuteTime": {
     "end_time": "2024-06-15T14:19:15.072246Z",
     "start_time": "2024-06-15T14:19:14.539434Z"
    }
   },
   "cell_type": "code",
   "source": [
    "val primes: Sequence<Int> = sequence {\n",
    "    var numbers = generateSequence(2) { it + 1 }\n",
    "    \n",
    "    while (true) {\n",
    "        val prime = numbers.first()\n",
    "        yield(prime)\n",
    "        numbers = numbers.drop(1)\n",
    "            .filter { it % prime != 0 } // 모든 필터의 연산자가 서로 다른 prime 값을 참조. 즉, 캡처됨.\n",
    "    }\n",
    "}\n",
    "\n",
    "print(primes.take(10).toList())"
   ],
   "outputs": [
    {
     "name": "stdout",
     "output_type": "stream",
     "text": [
      "[2, 3, 5, 7, 11, 13, 17, 19, 23, 29]"
     ]
    }
   ],
   "execution_count": 3
  },
  {
   "metadata": {
    "ExecuteTime": {
     "end_time": "2024-06-15T14:33:26.868503Z",
     "start_time": "2024-06-15T14:33:26.137162Z"
    }
   },
   "cell_type": "code",
   "source": [
    "val primes: Sequence<Int> = sequence {\n",
    "    var numbers = generateSequence(2) { it + 1 }\n",
    "    \n",
    "    var prime: Int // 좁은 스코프를 벗어난 변수 정의\n",
    "    while (true) {\n",
    "        prime = numbers.first()\n",
    "        yield(prime)\n",
    "        numbers = numbers.drop(1)\n",
    "            .filter { it % prime != 0 }  // 모든 필터의 연산자가 같은 prime 값을 참조. 즉, 캡처되지 않음.\n",
    "    }\n",
    "}\n",
    "\n",
    "print(primes.take(10).toList()) // 예상과는 다른 결과가 나오게 된다."
   ],
   "outputs": [
    {
     "name": "stdout",
     "output_type": "stream",
     "text": [
      "[2, 3, 5, 6, 7, 8, 9, 10, 11, 12]"
     ]
    }
   ],
   "execution_count": 9
  }
 ],
 "metadata": {
  "kernelspec": {
   "display_name": "Kotlin",
   "language": "kotlin",
   "name": "kotlin"
  },
  "language_info": {
   "name": "kotlin",
   "version": "1.9.23",
   "mimetype": "text/x-kotlin",
   "file_extension": ".kt",
   "pygments_lexer": "kotlin",
   "codemirror_mode": "text/x-kotlin",
   "nbconvert_exporter": ""
  }
 },
 "nbformat": 4,
 "nbformat_minor": 0
}
