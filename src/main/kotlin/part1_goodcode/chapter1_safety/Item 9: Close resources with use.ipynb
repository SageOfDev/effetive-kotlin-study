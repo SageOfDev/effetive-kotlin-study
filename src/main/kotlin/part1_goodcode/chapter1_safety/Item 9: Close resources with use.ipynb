{
 "cells": [
  {
   "metadata": {},
   "cell_type": "markdown",
   "source": [
    "### Item 9: Close resources with use\n",
    "\n",
    "`Closable` class 를 close 하기 위해서, `try...finally` 가 아닌 `use` 를 사용하라."
   ]
  },
  {
   "metadata": {
    "ExecuteTime": {
     "end_time": "2024-06-24T14:35:15.309488Z",
     "start_time": "2024-06-24T14:35:14.533395Z"
    }
   },
   "cell_type": "code",
   "source": [
    "/* 나쁜 예 */\n",
    "import java.io.BufferedReader\n",
    "import java.io.FileReader\n",
    "\n",
    "\n",
    "fun countCharactorsInFile(path: String): Int {\n",
    "    val reader = BufferedReader(FileReader(path))\n",
    "    try {\n",
    "        return reader.lineSequence().sumOf { it.length }\n",
    "    } finally {\n",
    "        reader.close()\n",
    "    }\n",
    "}"
   ],
   "outputs": [],
   "execution_count": 2
  },
  {
   "metadata": {
    "ExecuteTime": {
     "end_time": "2024-06-24T14:37:16.758706Z",
     "start_time": "2024-06-24T14:37:16.183506Z"
    }
   },
   "cell_type": "code",
   "source": [
    "/* 좋은 예 */\n",
    "\n",
    "fun countCharactorsInFile(path: String): Int {\n",
    "    BufferedReader(FileReader(path)).use { reader ->\n",
    "        return reader.lineSequence().sumOf { it.length }\n",
    "        \n",
    "    }\n",
    "}"
   ],
   "outputs": [],
   "execution_count": 3
  },
  {
   "metadata": {},
   "cell_type": "markdown",
   "source": [
    "`close()` 에서 에러가 발생할 수 있다.\n",
    "\n",
    "따라서 `finally` 블록에서도 에러 핸들링 코드가 필요하다.\n",
    "\n",
    "`use` 는 이런 처리를 알아서 해주도록 코드가 작성돼 있다."
   ]
  }
 ],
 "metadata": {
  "kernelspec": {
   "display_name": "Kotlin",
   "language": "kotlin",
   "name": "kotlin"
  },
  "language_info": {
   "name": "kotlin",
   "version": "1.9.23",
   "mimetype": "text/x-kotlin",
   "file_extension": ".kt",
   "pygments_lexer": "kotlin",
   "codemirror_mode": "text/x-kotlin",
   "nbconvert_exporter": ""
  }
 },
 "nbformat": 4,
 "nbformat_minor": 0
}
