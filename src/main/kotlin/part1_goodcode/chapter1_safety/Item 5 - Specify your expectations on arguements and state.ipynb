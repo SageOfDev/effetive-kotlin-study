{
 "cells": [
  {
   "metadata": {},
   "cell_type": "markdown",
   "source": [
    "### Item 5: 예외를 활용해 코드에 제한을 걸어라\n",
    "확실하게 어떤 형태로 동작해야 하는 코드가 있다면 예외를 활용해 제한을 걸어라.\n",
    "- require: Arguments에 제한\n",
    "- check: 상태와 관련된 동작에 제한\n",
    "- assert: 테스트 모드에서만 작동. 어떤 것이 true 인지 확인\n",
    "- return 또는 throw 와 함께 사용하는 ?:\n",
    "\n",
    "예시\n",
    "```kotlin\n",
    "// Stack<T> 의 일부\n",
    "fun pop(num: Int = 1): List<T> {\n",
    "    require(num <= size) {\n",
    "        \"Cannot remove more elements than current size\"\n",
    "    }\n",
    "    check(isOpen) { \"Cannot pop form closed stack\" }\n",
    "    val ret = collection.take(num)\n",
    "    collection = collection.drop(num)\n",
    "    assert(ret.size == num)\n",
    "    return ret\n",
    "}\n",
    "```\n",
    "\n",
    "#### Elvis 연산자\n",
    "\n",
    "null 일 때 원하는 동작을 Elvis 연산자로 조립하면,\n",
    "- 가독성이 증가\n",
    "- 유연하게 사용 가능\n",
    "\n",
    "\n",
    "```kotlin\n",
    "fun sendEmail(person: Person, text: String) {\n",
    "    val email: String = person.email ?: return\n",
    "}\n",
    "```\n",
    "\n",
    "```kotlin\n",
    "fun sendEmail(person: Person, text: String) {\n",
    "    val email: String = person.email ?: run { // run 은 입력 받은 lamda 를 단순히 실행한다. null handling 으로 여러 동작을 사용하고 싶을 때 사용하면 좋다.\n",
    "        log(\"Email not sent, no email address\")\n",
    "        return\n",
    "    }\n",
    "}\n",
    "```\n"
   ]
  },
  {
   "metadata": {},
   "cell_type": "code",
   "outputs": [],
   "execution_count": null,
   "source": ""
  }
 ],
 "metadata": {
  "kernelspec": {
   "display_name": "Kotlin",
   "language": "kotlin",
   "name": "kotlin"
  },
  "language_info": {
   "name": "kotlin",
   "version": "1.9.23",
   "mimetype": "text/x-kotlin",
   "file_extension": ".kt",
   "pygments_lexer": "kotlin",
   "codemirror_mode": "text/x-kotlin",
   "nbconvert_exporter": ""
  }
 },
 "nbformat": 4,
 "nbformat_minor": 0
}
