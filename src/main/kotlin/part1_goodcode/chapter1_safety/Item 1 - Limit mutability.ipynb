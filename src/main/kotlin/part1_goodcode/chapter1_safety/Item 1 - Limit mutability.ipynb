{
 "cells": [
  {
   "metadata": {},
   "cell_type": "markdown",
   "source": "# Part 1: Good code"
  },
  {
   "metadata": {},
   "cell_type": "markdown",
   "source": [
    "##  Chapter 1: Safety\n",
    "1장의 목적\n",
    "* 오류가 덜 발생하는 코드를 만드는 것"
   ]
  },
  {
   "metadata": {},
   "cell_type": "markdown",
   "source": [
    "### Item 1: 가변성 제한하기\n",
    "- var 보다는 val\n",
    "- mutable property 보다는 immutable property\n",
    "- mutable object와 class보다는 immutable obj와 class\n",
    "- 변경이 필요하다면 immutable 한 data class 의 copy\n",
    "- Collection 에 상태를 저장해야 한다면, mutable 보단 read-only Collection\n",
    "- 불필요한 변경 지점은 만들지 말 것\n",
    "- mutable 객체를 외부로 노출하지 말 것\n",
    "\n",
    "예외\n",
    "- 효율성을 위해 immutable 보다 mutable 한 object 를 사용하는 것이 나을 때가 있"
   ]
  },
  {
   "metadata": {},
   "cell_type": "markdown",
   "source": [
    "#### 코틀린에서 가변성 제한하기\n",
    "* 읽기 전용 프로퍼티(val) 사용하기\n",
    "* 가변 컬렉션과 읽기 전용 컬렉션 구분하기\n",
    "* data class의 copy 사용하기"
   ]
  },
  {
   "metadata": {},
   "cell_type": "markdown",
   "source": [
    "##### 읽기 전용 프로퍼티(val) 사용하기\n",
    "읽기 전용(read only) 라고 해서 immutable 하진 않다."
   ]
  },
  {
   "metadata": {
    "ExecuteTime": {
     "end_time": "2024-06-13T12:28:00.542708Z",
     "start_time": "2024-06-13T12:27:59.836358Z"
    }
   },
   "cell_type": "code",
   "source": [
    "var firstName = \"길동\"\n",
    "var lastName = \"홍\"\n",
    "val fullName\n",
    "    get() = \"$lastName$firstName\"\n",
    "\n",
    "println(fullName)\n",
    "firstName = \"길길\"\n",
    "println(fullName)"
   ],
   "outputs": [
    {
     "name": "stdout",
     "output_type": "stream",
     "text": [
      "홍길동\n",
      "홍길길\n"
     ]
    }
   ],
   "execution_count": 3
  },
  {
   "metadata": {},
   "cell_type": "markdown",
   "source": "val 은 프로퍼티 레퍼런스 자체를 변경할 수는 없으므로 동기화 문제를 줄일 수 있다."
  },
  {
   "metadata": {},
   "cell_type": "markdown",
   "source": [
    "##### 가변 컬렉션과 읽기 전용 컬렉션 구분하기\n",
    "immutable 에서 mutable 로 다운캐스팅 해야하는 경우엔 copy를 사용해라."
   ]
  },
  {
   "metadata": {
    "ExecuteTime": {
     "end_time": "2024-06-15T00:39:37.758084Z",
     "start_time": "2024-06-15T00:39:37.448279Z"
    }
   },
   "cell_type": "code",
   "source": [
    "// 좋은 예\n",
    "val list = listOf(1, 2, 3)\n",
    "val mutableList = list.toMutableList()\n",
    "mutableList.add(4)"
   ],
   "outputs": [
    {
     "data": {
      "text/plain": [
       "true"
      ]
     },
     "execution_count": 3,
     "metadata": {},
     "output_type": "execute_result"
    }
   ],
   "execution_count": 3
  },
  {
   "metadata": {
    "ExecuteTime": {
     "end_time": "2024-06-24T22:49:39.404187Z",
     "start_time": "2024-06-24T22:49:39.083145Z"
    }
   },
   "cell_type": "code",
   "source": [
    "// 나쁜 예\n",
    "val list = listOf(1, 2, 3) // JVM에서 listOf 는 java 의 Arrays.ArrayList 를 반환\n",
    "\n",
    "if (list is MutableList) { //  java List 의 add, set 을 메서드를 포함하고 있는 MutableList 로 변경 가능\n",
    "    list.add(4) // Arrays.ArrayList 엔 add, set 이 구현되어 있지 않음\n",
    "}"
   ],
   "outputs": [
    {
     "name": "stderr",
     "output_type": "stream",
     "text": [
      "null\n",
      "java.lang.UnsupportedOperationException\n",
      "\tat java.base/java.util.AbstractList.add(AbstractList.java:153)\n",
      "\tat java.base/java.util.AbstractList.add(AbstractList.java:111)\n",
      "\tat Line_1_jupyter.<init>(Line_1.jupyter.kts:5)\n",
      "\tat java.base/jdk.internal.reflect.NativeConstructorAccessorImpl.newInstance0(Native Method)\n",
      "\tat java.base/jdk.internal.reflect.NativeConstructorAccessorImpl.newInstance(NativeConstructorAccessorImpl.java:77)\n",
      "\tat java.base/jdk.internal.reflect.DelegatingConstructorAccessorImpl.newInstance(DelegatingConstructorAccessorImpl.java:45)\n",
      "\tat java.base/java.lang.reflect.Constructor.newInstanceWithCaller(Constructor.java:499)\n",
      "\tat java.base/java.lang.reflect.Constructor.newInstance(Constructor.java:480)\n",
      "\tat kotlin.script.experimental.jvm.BasicJvmScriptEvaluator.evalWithConfigAndOtherScriptsResults(BasicJvmScriptEvaluator.kt:122)\n",
      "\tat kotlin.script.experimental.jvm.BasicJvmScriptEvaluator.invoke$suspendImpl(BasicJvmScriptEvaluator.kt:48)\n",
      "\tat kotlin.script.experimental.jvm.BasicJvmScriptEvaluator.invoke(BasicJvmScriptEvaluator.kt)\n",
      "\tat kotlin.script.experimental.jvm.BasicJvmReplEvaluator.eval(BasicJvmReplEvaluator.kt:49)\n",
      "\tat org.jetbrains.kotlinx.jupyter.repl.impl.InternalEvaluatorImpl$eval$resultWithDiagnostics$1.invokeSuspend(InternalEvaluatorImpl.kt:127)\n",
      "\tat kotlin.coroutines.jvm.internal.BaseContinuationImpl.resumeWith(ContinuationImpl.kt:33)\n",
      "\tat kotlinx.coroutines.DispatchedTask.run(DispatchedTask.kt:104)\n",
      "\tat kotlinx.coroutines.EventLoopImplBase.processNextEvent(EventLoop.common.kt:277)\n",
      "\tat kotlinx.coroutines.BlockingCoroutine.joinBlocking(Builders.kt:95)\n",
      "\tat kotlinx.coroutines.BuildersKt__BuildersKt.runBlocking(Builders.kt:69)\n",
      "\tat kotlinx.coroutines.BuildersKt.runBlocking(Unknown Source)\n",
      "\tat kotlinx.coroutines.BuildersKt__BuildersKt.runBlocking$default(Builders.kt:48)\n",
      "\tat kotlinx.coroutines.BuildersKt.runBlocking$default(Unknown Source)\n",
      "\tat org.jetbrains.kotlinx.jupyter.repl.impl.InternalEvaluatorImpl.eval(InternalEvaluatorImpl.kt:127)\n",
      "\tat org.jetbrains.kotlinx.jupyter.repl.impl.CellExecutorImpl$execute$1$result$1.invoke(CellExecutorImpl.kt:79)\n",
      "\tat org.jetbrains.kotlinx.jupyter.repl.impl.CellExecutorImpl$execute$1$result$1.invoke(CellExecutorImpl.kt:77)\n",
      "\tat org.jetbrains.kotlinx.jupyter.repl.impl.ReplForJupyterImpl.withHost(ReplForJupyterImpl.kt:758)\n",
      "\tat org.jetbrains.kotlinx.jupyter.repl.impl.CellExecutorImpl.execute(CellExecutorImpl.kt:77)\n",
      "\tat org.jetbrains.kotlinx.jupyter.repl.execution.CellExecutor$DefaultImpls.execute$default(CellExecutor.kt:12)\n",
      "\tat org.jetbrains.kotlinx.jupyter.repl.impl.ReplForJupyterImpl.evaluateUserCode(ReplForJupyterImpl.kt:581)\n",
      "\tat org.jetbrains.kotlinx.jupyter.repl.impl.ReplForJupyterImpl.access$evaluateUserCode(ReplForJupyterImpl.kt:136)\n",
      "\tat org.jetbrains.kotlinx.jupyter.repl.impl.ReplForJupyterImpl$evalEx$1.invoke(ReplForJupyterImpl.kt:439)\n",
      "\tat org.jetbrains.kotlinx.jupyter.repl.impl.ReplForJupyterImpl$evalEx$1.invoke(ReplForJupyterImpl.kt:436)\n",
      "\tat org.jetbrains.kotlinx.jupyter.repl.impl.ReplForJupyterImpl.withEvalContext(ReplForJupyterImpl.kt:417)\n",
      "\tat org.jetbrains.kotlinx.jupyter.repl.impl.ReplForJupyterImpl.evalEx(ReplForJupyterImpl.kt:436)\n",
      "\tat org.jetbrains.kotlinx.jupyter.messaging.IdeCompatibleMessageRequestProcessor$processExecuteRequest$1$response$1$1.invoke(IdeCompatibleMessageRequestProcessor.kt:140)\n",
      "\tat org.jetbrains.kotlinx.jupyter.messaging.IdeCompatibleMessageRequestProcessor$processExecuteRequest$1$response$1$1.invoke(IdeCompatibleMessageRequestProcessor.kt:139)\n",
      "\tat org.jetbrains.kotlinx.jupyter.execution.JupyterExecutorImpl$Task.execute(JupyterExecutorImpl.kt:42)\n",
      "\tat org.jetbrains.kotlinx.jupyter.execution.JupyterExecutorImpl$executorThread$1.invoke(JupyterExecutorImpl.kt:82)\n",
      "\tat org.jetbrains.kotlinx.jupyter.execution.JupyterExecutorImpl$executorThread$1.invoke(JupyterExecutorImpl.kt:80)\n",
      "\tat kotlin.concurrent.ThreadsKt$thread$thread$1.run(Thread.kt:30)\n"
     ]
    }
   ],
   "execution_count": 1
  },
  {
   "metadata": {},
   "cell_type": "markdown",
   "source": [
    "##### data class 의 copy 사용하기\n",
    "data class 의 copy 는 특정 프로퍼티의 값이 변경된 새로운 인스턴스를 만들어준다."
   ]
  },
  {
   "metadata": {
    "ExecuteTime": {
     "end_time": "2024-06-15T06:07:30.019421Z",
     "start_time": "2024-06-15T06:07:29.686113Z"
    }
   },
   "cell_type": "code",
   "source": [
    "data class User(\n",
    "    val name: String,\n",
    "    val surname: String\n",
    ")\n",
    "\n",
    "var user = User(\"길동\", \"홍\")\n",
    "user = user.copy(surname = \"김\")\n",
    "println(user)"
   ],
   "outputs": [
    {
     "name": "stdout",
     "output_type": "stream",
     "text": [
      "User(name=길동, surname=김)\n"
     ]
    }
   ],
   "execution_count": 3
  },
  {
   "metadata": {},
   "cell_type": "markdown",
   "source": [
    "#### 다른 종류의 변경 가능 지점\n",
    "|              | `val MutableList` | `var List` |\n",
    "|--------------|-------------------|------------|\n",
    "| 변경 가능 지점     | MutableList 내부    | 프로퍼티 자체    |\n",
    "| 멀티 스레드 안정성   | 나쁨                | 좋음         |\n",
    "| Delegates 추적 | 불가능               | 가능         |\n",
    "\n",
    "mutable property(`var List`) 가 제어하기  더 쉬움\n",
    "\n",
    "property 와 collection 을 모두 mutable 하게 사용하진 말라\n",
    "- `var MutableList`"
   ]
  },
  {
   "metadata": {
    "ExecuteTime": {
     "end_time": "2024-06-15T06:35:38.725752Z",
     "start_time": "2024-06-15T06:35:37.395642Z"
    }
   },
   "cell_type": "code",
   "source": [
    "import kotlin.concurrent.thread\n",
    "\n",
    "var list = listOf<Int>() // var List 여도 코드를 잘못 작성하면 손실이 발생할 수 있음. 이 코드의 결과는 항상 1000 보다 작음\n",
    "for (i in 1..1000) {\n",
    "    thread {\n",
    "        list = list + i\n",
    "    }\n",
    "}\n",
    "Thread.sleep(1000)\n",
    "print(list.size)"
   ],
   "outputs": [
    {
     "name": "stdout",
     "output_type": "stream",
     "text": [
      "988"
     ]
    }
   ],
   "execution_count": 8
  },
  {
   "metadata": {
    "ExecuteTime": {
     "end_time": "2024-06-15T06:29:27.129499Z",
     "start_time": "2024-06-15T06:29:26.778076Z"
    }
   },
   "cell_type": "code",
   "source": [
    "import kotlin.properties.Delegates\n",
    "\n",
    "var names by Delegates.observable(listOf<String>()) { _, old, new ->\n",
    "    println(\"Names changed form $old to $new\")\n",
    "}\n",
    "\n",
    "names += \"Fablo\"\n",
    "names += \"Bill\""
   ],
   "outputs": [
    {
     "name": "stdout",
     "output_type": "stream",
     "text": [
      "Names changed form [] to [Fablo]\n",
      "Names changed form [Fablo] to [Fablo, Bill]\n"
     ]
    }
   ],
   "execution_count": 6
  },
  {
   "metadata": {},
   "cell_type": "markdown",
   "source": [
    "#### 변경 가능 지점 노출하지 말기\n",
    "변경 가능한 프로퍼티에 대한 조회 메서드를 제공하려면, 가변성을 제한하기 위해 직접 노출시키지 말고 다음의 방법을 사용해라.\n",
    "1. data class 의 copy\n",
    "2. return 타입을 read only 타입으로 업캐스팅 "
   ]
  }
 ],
 "metadata": {
  "kernelspec": {
   "display_name": "Kotlin",
   "language": "kotlin",
   "name": "kotlin"
  },
  "language_info": {
   "name": "kotlin",
   "version": "1.9.23",
   "mimetype": "text/x-kotlin",
   "file_extension": ".kt",
   "pygments_lexer": "kotlin",
   "codemirror_mode": "text/x-kotlin",
   "nbconvert_exporter": ""
  }
 },
 "nbformat": 4,
 "nbformat_minor": 0
}
