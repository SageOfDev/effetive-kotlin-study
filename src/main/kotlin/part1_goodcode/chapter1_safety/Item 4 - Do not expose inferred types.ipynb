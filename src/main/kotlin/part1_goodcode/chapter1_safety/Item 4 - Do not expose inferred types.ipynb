{
 "cells": [
  {
   "metadata": {},
   "cell_type": "markdown",
   "source": [
    "#### Item 4. inferred 타입으로 리턴하지 말라\n",
    "타입을 확실하게 지정해야하는 경우라면 명시적으로 타입을 지정하라.\n",
    "\n",
    "지정된 타입을 코드상에서 확실하지 않다면 지우지 말라."
   ]
  },
  {
   "metadata": {},
   "cell_type": "code",
   "outputs": [],
   "execution_count": null,
   "source": ""
  }
 ],
 "metadata": {
  "kernelspec": {
   "display_name": "Kotlin",
   "language": "kotlin",
   "name": "kotlin"
  },
  "language_info": {
   "name": "kotlin",
   "version": "1.9.23",
   "mimetype": "text/x-kotlin",
   "file_extension": ".kt",
   "pygments_lexer": "kotlin",
   "codemirror_mode": "text/x-kotlin",
   "nbconvert_exporter": ""
  }
 },
 "nbformat": 4,
 "nbformat_minor": 0
}
