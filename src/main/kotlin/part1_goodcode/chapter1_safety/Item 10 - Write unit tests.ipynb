{
 "cells": [
  {
   "metadata": {},
   "cell_type": "markdown",
   "source": [
    "### Item 10: Write unit tests\n",
    "\n",
    "사용자 관점에서 외부적으로 잘 동작하는지 확인하는 테스트이외에도, 코드가 내부적으로 잘 동작하는지 확인하는 unit test 코드를 작성하라."
   ]
  },
  {
   "metadata": {
    "ExecuteTime": {
     "end_time": "2024-06-24T23:34:12.547604Z",
     "start_time": "2024-06-24T23:34:12.267791Z"
    }
   },
   "cell_type": "code",
   "source": [
    "import org.junit.jupiter.api.Test\n",
    "import kotlin.test.assertEquals\n",
    "\n",
    "fun fib(order: Int): Int {\n",
    "    require(order >= 0)\n",
    "    \n",
    "    if (order == 0) return 0\n",
    "    \n",
    "    var previous = 0\n",
    "    val fibSeq = generateSequence(1) { current ->\n",
    "        val next = previous + current\n",
    "        previous = current\n",
    "        next\n",
    "    }\n",
    "    \n",
    "    return fibSeq.take(order).toList()[order]\n",
    "}\n",
    "\n",
    "@Test\n",
    "fun `fib works correctly for the first 5 positions`() {\n",
    "    assertEquals(1, fib(0))\n",
    "    assertEquals(1, fib(1))\n",
    "    assertEquals(2, fib(2))\n",
    "    assertEquals(3, fib(3))\n",
    "    assertEquals(5, fib(4))\n",
    "}"
   ],
   "outputs": [],
   "execution_count": 9
  },
  {
   "metadata": {},
   "cell_type": "markdown",
   "source": [
    "unit test 에서 다음의 것들을 테스트하라\n",
    "- Common use case: 일반적으로 사용될 것으로 생각되는 유즈케이스\n",
    "- Common error case or potential problem: 일반적으로 제대로 동작하지 않을 것이라고 예상되는 부분. 과거에 문제가 발생했던 부분.\n",
    "- Edge-case: 인수가 잘못된 경우. Int 타입에 Int.MAX_VALUE 를 넣거나, fib 에 음수를 넣거나, nullable 타입에 null 이나 null 값만 가지는 object\n",
    "\n"
   ]
  }
 ],
 "metadata": {
  "kernelspec": {
   "display_name": "Kotlin",
   "language": "kotlin",
   "name": "kotlin"
  },
  "language_info": {
   "name": "kotlin",
   "version": "1.9.23",
   "mimetype": "text/x-kotlin",
   "file_extension": ".kt",
   "pygments_lexer": "kotlin",
   "codemirror_mode": "text/x-kotlin",
   "nbconvert_exporter": ""
  }
 },
 "nbformat": 4,
 "nbformat_minor": 0
}
