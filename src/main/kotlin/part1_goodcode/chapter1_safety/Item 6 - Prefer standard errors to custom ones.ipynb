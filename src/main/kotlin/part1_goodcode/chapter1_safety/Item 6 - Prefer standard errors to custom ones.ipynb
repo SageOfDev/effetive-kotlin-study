{
 "cells": [
  {
   "metadata": {},
   "cell_type": "markdown",
   "source": [
    "### Item 6: Prefer standard errors to custom ones\n",
    "가능하다면 standard error 를 사용하라\n",
    "\n",
    "standard error 는 이미 개발자들에게 잘 알려진 error들임\n",
    "- 가독성, 재사용성이 높음\n",
    "\n",
    "잘 사용되는 에러들"
   ]
  },
  {
   "metadata": {},
   "cell_type": "code",
   "outputs": [],
   "execution_count": null,
   "source": [
    "throw IllegalArgumentException() // 잘못된 arguments\n",
    "throw IllegalStateException() // 잘못된 state\n",
    "throw IndexOutOfBoundsException() // index 인자값이 범위를 넘어섬. ArrayList.get(Int) 와 같은 collection 의 메서드에서 사용됨\n",
    "throw ConcurrentModificationException() // 금지된 동시 수정이 감지됨\n",
    "throw UnsupportedOperationException() // 선언된 메서드가 해당 object 에서 지원하지 않음\n",
    "throw NoSuchElementException() // 원소가 없음. Iterable 구현하고 다음 원소가 없는데 next 를 호출한 경우 사용됨"
   ]
  }
 ],
 "metadata": {
  "kernelspec": {
   "display_name": "Kotlin",
   "language": "kotlin",
   "name": "kotlin"
  },
  "language_info": {
   "name": "kotlin",
   "version": "1.9.23",
   "mimetype": "text/x-kotlin",
   "file_extension": ".kt",
   "pygments_lexer": "kotlin",
   "codemirror_mode": "text/x-kotlin",
   "nbconvert_exporter": ""
  }
 },
 "nbformat": 4,
 "nbformat_minor": 0
}
