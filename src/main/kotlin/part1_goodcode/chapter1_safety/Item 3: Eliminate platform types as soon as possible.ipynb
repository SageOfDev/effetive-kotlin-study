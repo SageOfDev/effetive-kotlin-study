{
 "cells": [
  {
   "metadata": {},
   "cell_type": "markdown",
   "source": [
    "### Item 3: 최대한 플랫폼 타입을 사용하지 말라\n",
    "플랫폼 타입이란?\n",
    "- 자바 등의 프로그래밍 언어에서 넘어온 타입을 일컬음\n",
    "- nullable 인지 명확히 알기 힘들 수 있음\n",
    "- kotlin 에선 !을 붙여서 플랫폼 타입을 표현함. ex) String!\n",
    "\n",
    "다음과 같은 방법 중 하나를 선택하여 플랫폼 타입의 변수를 선언할 수 있음\n",
    "```kotlin\n",
    "val repo = UserRepo() // UserRepo 는 플랫폼 타입의 클래스\n",
    "val user1 = repo.user() // user1 의 타입은 User!\n",
    "val user2: User = repo.user() // 타입 캐스팅\n",
    "val user3: User? = repo.user() // 타입 캐스팅\n",
    "```\n",
    "\n",
    "null 이 아니라고 생각해도 null 일 위험은 여전히 있음\n",
    "\n",
    "자바를 코틀린과 함께 사용할 때, 자바에 @Nullable, @NotNull 을 사용해야 nullable 타입 캐스팅이 된다\n",
    "\n",
    "되도록이면 플랫폼타입은 사용하지 않는 게 좋음 "
   ]
  },
  {
   "metadata": {},
   "cell_type": "code",
   "outputs": [],
   "execution_count": null,
   "source": ""
  }
 ],
 "metadata": {
  "kernelspec": {
   "display_name": "Kotlin",
   "language": "kotlin",
   "name": "kotlin"
  },
  "language_info": {
   "name": "kotlin",
   "version": "1.9.23",
   "mimetype": "text/x-kotlin",
   "file_extension": ".kt",
   "pygments_lexer": "kotlin",
   "codemirror_mode": "text/x-kotlin",
   "nbconvert_exporter": ""
  }
 },
 "nbformat": 4,
 "nbformat_minor": 0
}
